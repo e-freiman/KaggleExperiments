{
 "cells": [
  {
   "cell_type": "code",
   "execution_count": 1,
   "metadata": {
    "collapsed": true
   },
   "outputs": [],
   "source": [
    "import pandas as pd"
   ]
  },
  {
   "cell_type": "code",
   "execution_count": 2,
   "metadata": {
    "collapsed": true
   },
   "outputs": [],
   "source": [
    "train = pd.read_csv('../input/train.csv')"
   ]
  },
  {
   "cell_type": "code",
   "execution_count": 3,
   "metadata": {
    "collapsed": false,
    "scrolled": true
   },
   "outputs": [
    {
     "name": "stdout",
     "output_type": "stream",
     "text": [
      "29118021 26206218 2911803\n",
      "0\n"
     ]
    }
   ],
   "source": [
    "split_index = int(train.shape[0] * 0.9)\n",
    "train09 = train.head(split_index)\n",
    "#train09.to_csv('input/train09.csv')\n",
    "valid09 = train.tail(train.shape[0] - split_index)\n",
    "#valid09.to_csv('input/valid09.csv')\n",
    "\n",
    "print(train.shape[0], train09.shape[0], valid09.shape[0])\n",
    "print(train.shape[0] - train09.shape[0] - valid09.shape[0])"
   ]
  },
  {
   "cell_type": "code",
   "execution_count": 5,
   "metadata": {
    "collapsed": false,
    "scrolled": true
   },
   "outputs": [],
   "source": [
    "N = 100\n",
    "ids = train['place_id'].unique()[:N]"
   ]
  },
  {
   "cell_type": "code",
   "execution_count": 6,
   "metadata": {
    "collapsed": false
   },
   "outputs": [],
   "source": [
    "#train_N\n",
    "frames = []\n",
    "for id in ids:    \n",
    "    frames.append(train[train.place_id == id])\n",
    "trainN = pd.concat(frames)\n",
    "del trainN['row_id']\n",
    "\n",
    "trainN.to_csv('../input/train_'+str(N)+'.csv')"
   ]
  },
  {
   "cell_type": "code",
   "execution_count": 8,
   "metadata": {
    "collapsed": false
   },
   "outputs": [],
   "source": [
    "#train09_N\n",
    "frames = []\n",
    "for id in ids:    \n",
    "    frames.append(train09[train09.place_id == id])\n",
    "train09N = pd.concat(frames)\n",
    "del train09N['row_id']\n",
    "\n",
    "train09N.to_csv('../input/train09_'+str(N)+'.csv')"
   ]
  },
  {
   "cell_type": "code",
   "execution_count": 9,
   "metadata": {
    "collapsed": true
   },
   "outputs": [],
   "source": [
    "#valid09_N\n",
    "frames = []\n",
    "for id in ids:    \n",
    "    frames.append(valid09[valid09.place_id == id])\n",
    "valid09N = pd.concat(frames)\n",
    "del valid09N['row_id']\n",
    "\n",
    "valid09N.to_csv('../input/valid09_'+str(N)+'.csv')"
   ]
  },
  {
   "cell_type": "code",
   "execution_count": null,
   "metadata": {
    "collapsed": false
   },
   "outputs": [],
   "source": []
  },
  {
   "cell_type": "code",
   "execution_count": null,
   "metadata": {
    "collapsed": true
   },
   "outputs": [],
   "source": []
  }
 ],
 "metadata": {
  "kernelspec": {
   "display_name": "Python 3",
   "language": "python",
   "name": "python3"
  },
  "language_info": {
   "codemirror_mode": {
    "name": "ipython",
    "version": 3
   },
   "file_extension": ".py",
   "mimetype": "text/x-python",
   "name": "python",
   "nbconvert_exporter": "python",
   "pygments_lexer": "ipython3",
   "version": "3.6.0"
  }
 },
 "nbformat": 4,
 "nbformat_minor": 2
}
