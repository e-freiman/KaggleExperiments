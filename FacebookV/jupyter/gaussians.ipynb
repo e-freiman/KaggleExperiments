{
 "cells": [
  {
   "cell_type": "code",
   "execution_count": 16,
   "metadata": {
    "collapsed": true
   },
   "outputs": [],
   "source": [
    "import numpy as np\n",
    "import pandas as pd\n",
    "import time"
   ]
  },
  {
   "cell_type": "code",
   "execution_count": 17,
   "metadata": {
    "collapsed": false
   },
   "outputs": [],
   "source": [
    "#data = pd.read_csv('../input/train.csv')\n",
    "data = pd.read_csv('../input/train09_100.csv')"
   ]
  },
  {
   "cell_type": "code",
   "execution_count": 18,
   "metadata": {
    "collapsed": false
   },
   "outputs": [],
   "source": [
    "place_ids = data['place_id'].unique()"
   ]
  },
  {
   "cell_type": "code",
   "execution_count": 19,
   "metadata": {
    "collapsed": false
   },
   "outputs": [],
   "source": [
    "list_of_gaussians = []\n",
    "GAP = 1000\n",
    "i = 0\n",
    "start = 0\n",
    "finish = 0\n",
    "\n",
    "for id in place_ids:\n",
    "    if i % GAP == 0:\n",
    "        finish = time.time()\n",
    "        if i > 0:\n",
    "            velocity = GAP / (finish - start)\n",
    "            print(i, round(velocity, 1), 'id/sec',  round((len(place_ids) - i) / velocity / 60 / 60, 1), 'hours left')\n",
    "        start =  time.time()\n",
    "    i+=1\n",
    "    subdata = data[data['place_id'] == id]\n",
    "    \n",
    "    x1 = subdata['x']\n",
    "    x2 = subdata['y']\n",
    "    mu1 = np.mean(x1)\n",
    "    mu2 = np.mean(x2)\n",
    "    s1 = np.mean((x1 - mu1)**2)\n",
    "    s2 = np.mean((x2 - mu2)**2)\n",
    "    s12 = np.mean((x1 - mu1)*(x2 - mu2))\n",
    "    \n",
    "    list_of_gaussians.append({'id' : id, 'mu1' : mu1, 'mu2' : mu2, 's1' : s1, 's2' : s2, 's12' : s12})"
   ]
  },
  {
   "cell_type": "code",
   "execution_count": 20,
   "metadata": {
    "collapsed": false
   },
   "outputs": [],
   "source": [
    "pd.DataFrame(list_of_gaussians).to_csv('generated/gauss_location.csv')"
   ]
  },
  {
   "cell_type": "code",
   "execution_count": null,
   "metadata": {
    "collapsed": true
   },
   "outputs": [],
   "source": []
  }
 ],
 "metadata": {
  "kernelspec": {
   "display_name": "Python 3",
   "language": "python",
   "name": "python3"
  },
  "language_info": {
   "codemirror_mode": {
    "name": "ipython",
    "version": 3
   },
   "file_extension": ".py",
   "mimetype": "text/x-python",
   "name": "python",
   "nbconvert_exporter": "python",
   "pygments_lexer": "ipython3",
   "version": "3.6.0"
  }
 },
 "nbformat": 4,
 "nbformat_minor": 2
}
