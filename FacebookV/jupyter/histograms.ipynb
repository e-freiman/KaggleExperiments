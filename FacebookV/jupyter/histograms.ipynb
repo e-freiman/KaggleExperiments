{
 "cells": [
  {
   "cell_type": "code",
   "execution_count": 1,
   "metadata": {
    "collapsed": false
   },
   "outputs": [],
   "source": [
    "import numpy as np\n",
    "import pandas as pd\n",
    "import time\n",
    "import pickle\n",
    "import os"
   ]
  },
  {
   "cell_type": "code",
   "execution_count": 2,
   "metadata": {
    "collapsed": false
   },
   "outputs": [],
   "source": [
    "def decodeTime(data):\n",
    "    MINUTES_IN_DAY = 60 * 24\n",
    "    \n",
    "    day_of_week = (data['time'] // MINUTES_IN_DAY) % 7\n",
    "    time_of_day = data['time'] % MINUTES_IN_DAY\n",
    "\n",
    "    data['day_of_week'] = day_of_week\n",
    "    data['time_of_day'] = time_of_day\n",
    "    \n",
    "    return data\n",
    "\n",
    "#data = decodeTime(pd.read_csv('../input/train.csv'))\n",
    "data = decodeTime(pd.read_csv('../input/train09_100.csv'))"
   ]
  },
  {
   "cell_type": "code",
   "execution_count": 3,
   "metadata": {
    "collapsed": true
   },
   "outputs": [],
   "source": [
    "bins_day_of_week = (min(data['day_of_week']), max(data['day_of_week']), 7 ) # a day\n",
    "bins_time_of_day = (min(data['time_of_day']), max(data['time_of_day']), 48) # a half an hour\n",
    "bins_accuracy = (min(data['accuracy']), max(data['accuracy']), 10) # an unknown characterisitc"
   ]
  },
  {
   "cell_type": "code",
   "execution_count": 4,
   "metadata": {
    "collapsed": false
   },
   "outputs": [],
   "source": [
    "def write_meta(bins, f):\n",
    "    f.write(str(bins[0]) + '\\n' + str(bins[1]) + '\\n' + str(bins[2]))\n",
    "\n",
    "with open('generated/hist_day_of_week.meta', 'w') as f:\n",
    "    write_meta(bins_day_of_week, f)\n",
    "with open('generated/hist_time_of_day.meta', 'w') as f:\n",
    "    write_meta(bins_time_of_day, f)\n",
    "with open('generated/hist_accuracy.meta', 'w') as f:\n",
    "    write_meta(bins_accuracy, f)"
   ]
  },
  {
   "cell_type": "code",
   "execution_count": 5,
   "metadata": {
    "collapsed": true
   },
   "outputs": [],
   "source": [
    "place_ids = data['place_id'].unique()"
   ]
  },
  {
   "cell_type": "code",
   "execution_count": 6,
   "metadata": {
    "collapsed": false
   },
   "outputs": [],
   "source": [
    "def put_in_bin(value, bins, out_x):\n",
    "    lo = bins[0]\n",
    "    hi = bins[1]\n",
    "    n = bins[2]\n",
    "    \n",
    "    pos = int((value - lo) / (hi - lo) * (n - 1))\n",
    "    out_x[pos] += 1\n",
    "\n",
    "\n",
    "def hist(data, bins):    \n",
    "    x = np.zeros(bins[2])   \n",
    "    data.apply(put_in_bin, bins=bins, out_x=x)\n",
    "    return x / data.shape[0]"
   ]
  },
  {
   "cell_type": "code",
   "execution_count": 7,
   "metadata": {
    "collapsed": false
   },
   "outputs": [],
   "source": [
    "list_of_probs = []\n",
    "list_of_time = []\n",
    "list_of_days = []\n",
    "list_of_accuracies = []\n",
    "\n",
    "GAP = 10000\n",
    "i = 0\n",
    "start = 0\n",
    "finish = 0\n",
    "\n",
    "for id in place_ids:\n",
    "    if i % GAP == 0:\n",
    "        finish = time.time()\n",
    "        if i > 0:\n",
    "            velocity = GAP / (finish - start)\n",
    "            print(i, round(velocity, 1), 'id/sec',  round((len(place_ids) - i) / velocity / 60 / 60, 1), 'hours left')\n",
    "        start =  time.time()\n",
    "    i+=1\n",
    "\n",
    "    subdata = data[data['place_id'] == id]\n",
    "\n",
    "    #Prior probabilities\n",
    "    list_of_probs.append({'id' : id, 'prob' : subdata.shape[0] / data.shape[0]})    \n",
    "\n",
    "    #Histogram for days of a week\n",
    "    list_of_days.append(hist(subdata['day_of_week'], bins_day_of_week))\n",
    "\n",
    "    #Histogram for time of a day\n",
    "    list_of_time.append(hist(subdata['time_of_day'], bins_time_of_day))\n",
    "\n",
    "    #Histogram for accuracies\n",
    "    list_of_accuracies.append(hist(subdata['accuracy'], bins_accuracy))"
   ]
  },
  {
   "cell_type": "code",
   "execution_count": 8,
   "metadata": {
    "collapsed": false
   },
   "outputs": [],
   "source": [
    "pd.DataFrame(list_of_probs).to_csv('generated/prior_probabilities.csv')\n",
    "pd.DataFrame(list_of_time).to_csv('generated/hist_time_of_day.csv')\n",
    "pd.DataFrame(list_of_days).to_csv('generated/hist_day_of_week.csv')\n",
    "pd.DataFrame(list_of_accuracies).to_csv('generated/hist_accuracy.csv')"
   ]
  },
  {
   "cell_type": "code",
   "execution_count": null,
   "metadata": {
    "collapsed": true
   },
   "outputs": [],
   "source": []
  }
 ],
 "metadata": {
  "kernelspec": {
   "display_name": "Python 3",
   "language": "python",
   "name": "python3"
  },
  "language_info": {
   "codemirror_mode": {
    "name": "ipython",
    "version": 3
   },
   "file_extension": ".py",
   "mimetype": "text/x-python",
   "name": "python",
   "nbconvert_exporter": "python",
   "pygments_lexer": "ipython3",
   "version": "3.6.0"
  }
 },
 "nbformat": 4,
 "nbformat_minor": 2
}
