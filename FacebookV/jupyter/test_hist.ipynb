{
 "cells": [
  {
   "cell_type": "code",
   "execution_count": 6,
   "metadata": {
    "collapsed": true
   },
   "outputs": [],
   "source": [
    "import numpy as np\n",
    "import pandas as pd\n",
    "import pickle"
   ]
  },
  {
   "cell_type": "code",
   "execution_count": 7,
   "metadata": {
    "collapsed": false
   },
   "outputs": [],
   "source": [
    "days_hist = pd.read_csv('../generated_model100/hist_day_of_week.csv')"
   ]
  },
  {
   "cell_type": "code",
   "execution_count": 8,
   "metadata": {
    "collapsed": false
   },
   "outputs": [],
   "source": [
    "with open('../generated_model100/bins_day_of_week.pickle', 'rb') as f:\n",
    "    bins_day_of_week = pickle.load(f)"
   ]
  },
  {
   "cell_type": "code",
   "execution_count": 9,
   "metadata": {
    "collapsed": false
   },
   "outputs": [],
   "source": [
    "def compute_hist(prob, bins, x):\n",
    "    lo = bins[0]\n",
    "    hi = bins[1]\n",
    "    n = bins[2]\n",
    "    pos = int((x - lo) / (hi - lo) * (n - 1))\n",
    "    return prob[pos]"
   ]
  },
  {
   "cell_type": "code",
   "execution_count": 10,
   "metadata": {
    "collapsed": false
   },
   "outputs": [
    {
     "data": {
      "text/plain": [
       "array([ 0.06081081,  0.28623188,  0.1980198 ,  0.2       ,  0.12080537,\n",
       "        0.06858407,  0.25079365,  0.12635379,  0.23609227,  0.11550152,\n",
       "        0.03125   ,  0.17703349,  0.1628866 ,  0.09865471,  0.16964286,\n",
       "        0.07962529,  0.45945946,  0.08757962,  0.32589286,  0.10628019,\n",
       "        0.04814305,  0.11502783,  0.09      ,  0.0875    ,  0.1039604 ,\n",
       "        0.02985075,  0.18203883,  0.02777778,  0.27667683,  0.06231454,\n",
       "        0.12873862,  0.2300885 ,  0.12337098,  0.16426859,  0.14957265,\n",
       "        0.03076923,  0.15770609,  0.07692308,  0.04519774,  0.09490334,\n",
       "        0.11098528,  0.29289428,  0.05344828,  0.13768116,  0.14040562,\n",
       "        0.23387097,  0.1005291 ,  0.14727085,  0.0936255 ,  0.22651934,\n",
       "        0.08655617,  0.12731006,  0.14932127,  0.22514071,  0.03043968,\n",
       "        0.13831479,  0.10669456,  0.27118644,  0.30922432,  0.12307692,\n",
       "        0.03468208,  0.28165138,  0.13513514,  0.11781609,  0.08969072,\n",
       "        0.15217391,  0.09702797,  0.10553279,  0.10638298,  0.1124498 ,\n",
       "        0.11647727,  0.34246575,  0.04101562,  0.0962963 ,  0.03571429,\n",
       "        0.        ,  0.10933333,  0.00434028,  0.11132623,  0.12520325,\n",
       "        0.06741573,  0.25441696,  0.04516129,  0.15185602,  0.2278481 ,\n",
       "        0.03442029,  0.22429907,  0.1       ,  0.07407407,  0.1       ,\n",
       "        0.1372549 ,  0.04433498,  0.23090586,  0.16770186,  0.25433526,\n",
       "        0.09821429,  0.06676136,  0.55555556,  0.20361635,  0.13861386])"
      ]
     },
     "execution_count": 10,
     "metadata": {},
     "output_type": "execute_result"
    }
   ],
   "source": [
    "np.apply_along_axis(compute_hist, axis=1, arr=days_hist.as_matrix()[:, 1:], bins=bins_day_of_week, x=3)"
   ]
  },
  {
   "cell_type": "code",
   "execution_count": 11,
   "metadata": {
    "collapsed": false
   },
   "outputs": [
    {
     "data": {
      "text/html": [
       "<div>\n",
       "<table border=\"1\" class=\"dataframe\">\n",
       "  <thead>\n",
       "    <tr style=\"text-align: right;\">\n",
       "      <th></th>\n",
       "      <th>Unnamed: 0</th>\n",
       "      <th>0</th>\n",
       "      <th>1</th>\n",
       "      <th>2</th>\n",
       "      <th>3</th>\n",
       "      <th>4</th>\n",
       "      <th>5</th>\n",
       "      <th>6</th>\n",
       "    </tr>\n",
       "  </thead>\n",
       "  <tbody>\n",
       "    <tr>\n",
       "      <th>0</th>\n",
       "      <td>0</td>\n",
       "      <td>0.143581</td>\n",
       "      <td>0.248311</td>\n",
       "      <td>0.305743</td>\n",
       "      <td>0.060811</td>\n",
       "      <td>0.070946</td>\n",
       "      <td>0.096284</td>\n",
       "      <td>0.074324</td>\n",
       "    </tr>\n",
       "    <tr>\n",
       "      <th>1</th>\n",
       "      <td>1</td>\n",
       "      <td>0.043478</td>\n",
       "      <td>0.119565</td>\n",
       "      <td>0.365942</td>\n",
       "      <td>0.286232</td>\n",
       "      <td>0.076087</td>\n",
       "      <td>0.036232</td>\n",
       "      <td>0.072464</td>\n",
       "    </tr>\n",
       "    <tr>\n",
       "      <th>2</th>\n",
       "      <td>2</td>\n",
       "      <td>0.099010</td>\n",
       "      <td>0.108911</td>\n",
       "      <td>0.158416</td>\n",
       "      <td>0.198020</td>\n",
       "      <td>0.217822</td>\n",
       "      <td>0.079208</td>\n",
       "      <td>0.138614</td>\n",
       "    </tr>\n",
       "    <tr>\n",
       "      <th>3</th>\n",
       "      <td>3</td>\n",
       "      <td>0.065116</td>\n",
       "      <td>0.116279</td>\n",
       "      <td>0.153488</td>\n",
       "      <td>0.200000</td>\n",
       "      <td>0.241860</td>\n",
       "      <td>0.172093</td>\n",
       "      <td>0.051163</td>\n",
       "    </tr>\n",
       "    <tr>\n",
       "      <th>4</th>\n",
       "      <td>4</td>\n",
       "      <td>0.134228</td>\n",
       "      <td>0.137584</td>\n",
       "      <td>0.117450</td>\n",
       "      <td>0.120805</td>\n",
       "      <td>0.124161</td>\n",
       "      <td>0.181208</td>\n",
       "      <td>0.184564</td>\n",
       "    </tr>\n",
       "  </tbody>\n",
       "</table>\n",
       "</div>"
      ],
      "text/plain": [
       "   Unnamed: 0         0         1         2         3         4         5  \\\n",
       "0           0  0.143581  0.248311  0.305743  0.060811  0.070946  0.096284   \n",
       "1           1  0.043478  0.119565  0.365942  0.286232  0.076087  0.036232   \n",
       "2           2  0.099010  0.108911  0.158416  0.198020  0.217822  0.079208   \n",
       "3           3  0.065116  0.116279  0.153488  0.200000  0.241860  0.172093   \n",
       "4           4  0.134228  0.137584  0.117450  0.120805  0.124161  0.181208   \n",
       "\n",
       "          6  \n",
       "0  0.074324  \n",
       "1  0.072464  \n",
       "2  0.138614  \n",
       "3  0.051163  \n",
       "4  0.184564  "
      ]
     },
     "execution_count": 11,
     "metadata": {},
     "output_type": "execute_result"
    }
   ],
   "source": [
    "days_hist.head()"
   ]
  },
  {
   "cell_type": "code",
   "execution_count": null,
   "metadata": {
    "collapsed": true
   },
   "outputs": [],
   "source": []
  },
  {
   "cell_type": "code",
   "execution_count": null,
   "metadata": {
    "collapsed": true
   },
   "outputs": [],
   "source": []
  }
 ],
 "metadata": {
  "kernelspec": {
   "display_name": "Python 3",
   "language": "python",
   "name": "python3"
  }
 },
 "nbformat": 4,
 "nbformat_minor": 0
}
