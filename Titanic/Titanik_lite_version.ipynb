{
 "cells": [
  {
   "cell_type": "code",
   "execution_count": null,
   "metadata": {
    "collapsed": true
   },
   "outputs": [],
   "source": [
    "# Loading data\n",
    "\n",
    "import numpy as np\n",
    "import pandas as pd\n",
    "import re\n",
    "import matplotlib.pyplot as plt\n",
    "%matplotlib inline\n",
    "train = pd.read_csv('input/train.csv')\n",
    "test = pd.read_csv('input/test.csv')\n",
    "DF=pd.concat([train,test])"
   ]
  },
  {
   "cell_type": "code",
   "execution_count": null,
   "metadata": {
    "collapsed": false,
    "scrolled": true
   },
   "outputs": [],
   "source": [
    "# Decoding names\n",
    "def decodeTitle(name):\n",
    "    signif_titles=['Mr.','Miss.','Mrs.','Master.'] \n",
    "    # cut exactly title from column Name\n",
    "    title=name[name.find(',')+2:name.find('.')+1]\n",
    "    if title in signif_titles:  return(title)\n",
    "    else: return('Arist.')\n",
    "    \n",
    "DF['Title']=DF['Name'].apply(decodeTitle)"
   ]
  },
  {
   "cell_type": "code",
   "execution_count": null,
   "metadata": {
    "collapsed": false
   },
   "outputs": [],
   "source": [
    "# Decodng cabins\n",
    "def number(string):\n",
    "    if pd.notnull(string):\n",
    "        numbers=[int(i) for i in re.findall('(\\d+)',string)]\n",
    "        return(np.mean(numbers))\n",
    "def symbol(string):\n",
    "    if pd.notnull(string):\n",
    "        return(True)\n",
    "    else: return(False)\n",
    "\n",
    "DF['CabinSymbol'] = DF.Cabin.apply(symbol)\n",
    "DF['CabinNumber'] = DF.Cabin.apply(number)"
   ]
  },
  {
   "cell_type": "code",
   "execution_count": null,
   "metadata": {
    "collapsed": true
   },
   "outputs": [],
   "source": [
    "Ages, Fares=[0],[0]\n",
    "for i in [1,2,3]:\n",
    "    Ages.append(DF[DF.Pclass==i]['Age'].mean())\n",
    "    Fares.append(DF[DF.Pclass==i]['Fare'].mean())\n",
    "def funca(row):\n",
    "    if row[0]>0: \n",
    "        age=row[0]\n",
    "    else: \n",
    "        age=Ages[row[7]]\n",
    "    return(age)\n",
    "def funcb(row):\n",
    "    if row[3]>0: \n",
    "        fare=row[3]\n",
    "    else: \n",
    "        fare=Fares[row[7]]\n",
    "    return(fare)\n",
    "                 \n",
    "DF['Age']=DF.apply(funca,axis=1)\n",
    "DF['Fare']=DF.apply(funcb,axis=1)"
   ]
  },
  {
   "cell_type": "code",
   "execution_count": null,
   "metadata": {
    "collapsed": true
   },
   "outputs": [],
   "source": [
    "DF['Title']=DF['Title'].astype('category').cat.codes\n",
    "DF['CabinSymbol']=DF['CabinSymbol'].astype('category').cat.codes\n",
    "DF['Sex']=DF['Sex'].astype('category').cat.codes"
   ]
  },
  {
   "cell_type": "code",
   "execution_count": null,
   "metadata": {
    "collapsed": true
   },
   "outputs": [],
   "source": [
    "from sklearn.utils import shuffle\n",
    "DF = shuffle(DF, random_state = 187)"
   ]
  },
  {
   "cell_type": "code",
   "execution_count": null,
   "metadata": {
    "collapsed": false
   },
   "outputs": [],
   "source": [
    "DF_train=DF[DF.Survived.notnull()]\n",
    "DF_test=DF[DF.Survived.notnull()==False]\n",
    "from sklearn.grid_search import GridSearchCV\n",
    "from sklearn.ensemble import RandomForestClassifier\n",
    "\n",
    "optimizer = GridSearchCV(RandomForestClassifier(), \\\n",
    "                         {'max_features' : [0.4, 0.6, 0.8, 1.0], \n",
    "                          'max_depth' : [5, 10, 15, 25, 35, 45, 55, 65], \n",
    "                          'n_estimators' : [1, 5, 10, 15, 30, 50, 70, 90, 100]},\\\n",
    "                         cv = 15, \\\n",
    "                         n_jobs=-1)\n",
    "optimizer.fit(DF_train[['Age','Fare','SibSp','Parch','Pclass','Title','CabinSymbol','Sex']], DF_train['Survived'])\n",
    "print('Random Forest Best Result', optimizer.best_score_)\n",
    "print('Best Parameters', optimizer.best_params_)"
   ]
  },
  {
   "cell_type": "code",
   "execution_count": null,
   "metadata": {
    "collapsed": true
   },
   "outputs": [],
   "source": [
    "def writeAnswer(filename, optimizer):\n",
    "    prediction = optimizer.predict(np.hstack([DF_test[['Age','Fare','SibSp','Parch','Pclass','Title','CabinSymbol','Sex']]]))\n",
    "    submission = pd.DataFrame({\n",
    "            \"PassengerId\": test[\"PassengerId\"],\n",
    "            \"Survived\": prediction\n",
    "        })\n",
    "    submission.Survived=submission.Survived.astype('int64',copy=False)\n",
    "    submission.to_csv(filename, index=False)\n",
    "    \n",
    "writeAnswer('RandomForestClassifier.csv', optimizer)"
   ]
  },
  {
   "cell_type": "code",
   "execution_count": null,
   "metadata": {
    "collapsed": false
   },
   "outputs": [],
   "source": [
    "### Hand-made tree of solving\n",
    "i1,i2,i3,i4,i5,i6,i7,i8,i9,i10,i11=0,0,0,0,0,0,0,0,0,0,0\n",
    "j1,j2,j3,j4,j5,j6,j7,j8,j9,j10,j11=0,0,0,0,0,0,0,0,0,0,0\n",
    "def funct(row):\n",
    "    global i1,i2,i3,i4,i5,i6,i7,i8,i9,i10,i11\n",
    "    global j1,j2,j3,j4,j5,j6,j7,j8,j9,j10,j11\n",
    "    if row[8]=='female' and row[7] in [1,2]:\n",
    "        j1+=1\n",
    "        if row[10]==0: i1+=1\n",
    "        return(1)\n",
    "    elif row[8]=='female' and row[7]==3 and row[2]=='S':\n",
    "        j2+=1\n",
    "        if row[10]==1: i2+=1\n",
    "        return(0)\n",
    "    elif row[8]=='female' and row[7]==3 and row[2]!='S':\n",
    "        j3+=1    \n",
    "        if row[10]==0: i3+=1\n",
    "        return(1)\n",
    "    elif row[12]=='Master.' and row[7] in [1,2]: \n",
    "        j4+=1    \n",
    "        if row[10]==0: i4+=1\n",
    "        return(1)\n",
    "    elif row[12]=='Master.' and row[7]==3 and row[3]<21:\n",
    "        j5+=1\n",
    "        if row[10]==0: i5+=1\n",
    "        return(1)\n",
    "    elif row[12]=='Master.' and row[7]==3 and row[3]>21:\n",
    "        j6+=1     \n",
    "        if row[10]==1: i6+=1\n",
    "        return(0)\n",
    "    elif row[8]=='male' and row[7]==3:\n",
    "        j7+=1\n",
    "        if row[10]==1: i7+=1\n",
    "        return(0)\n",
    "    elif row[8]=='male' and row[12]=='Arist.' and row[13]==True:\n",
    "        j8+=1\n",
    "        if row[10]==0: i8+=1\n",
    "        return(1)\n",
    "    elif row[8]=='male' and row[12]=='Arist.' and row[13]==False:\n",
    "        j9+=1        \n",
    "        if row[10]==1: i9+=1\n",
    "        return(0)\n",
    "    elif row[8]=='male' and row[7] in [1,2] and row[12]!='Master.'and row[3]<100:\n",
    "        j10+=1\n",
    "        if row[10]==1: i10+=1\n",
    "        return(0)\n",
    "    elif row[8]=='male' and row[7] in [1,2] and row[12]!='Master.' and row[3]>100:\n",
    "        j11+=1\n",
    "        if row[10]==0: i11+=1\n",
    "        return(1)\n",
    "DF['Surv']=DF.apply(funct, axis=1)\n",
    "j=[j1,j2,j3,j4,j5,j6,j7,j8,j9,j10,j11]\n",
    "i=[i1,i2,i3,i4,i5,i6,i7,i8,i9,i10,i11]\n",
    "print(i)\n",
    "for q in range(11):\n",
    "    print(i[q]/j[q], end=' ')\n",
    "print(pd.crosstab(DF.Surv,DF.Survived))\n",
    "(891-153)/891"
   ]
  }
 ],
 "metadata": {
  "anaconda-cloud": {},
  "kernelspec": {
   "display_name": "Python [default]",
   "language": "python",
   "name": "python3"
  },
  "language_info": {
   "codemirror_mode": {
    "name": "ipython",
    "version": 3
   },
   "file_extension": ".py",
   "mimetype": "text/x-python",
   "name": "python",
   "nbconvert_exporter": "python",
   "pygments_lexer": "ipython3",
   "version": "3.5.2"
  }
 },
 "nbformat": 4,
 "nbformat_minor": 2
}
