{
 "cells": [
  {
   "cell_type": "code",
   "execution_count": null,
   "metadata": {
    "collapsed": true
   },
   "outputs": [],
   "source": [
    "# Loading data\n",
    "\n",
    "import numpy as np\n",
    "import pandas as pd\n",
    "import re\n",
    "import matplotlib.pyplot as plt\n",
    "%matplotlib inline\n",
    "train = pd.read_csv('input/train.csv')\n",
    "test = pd.read_csv('input/test.csv')\n",
    "DF=pd.concat([train,test])\n",
    "pd.options.display.max_columns=30"
   ]
  },
  {
   "cell_type": "code",
   "execution_count": null,
   "metadata": {
    "collapsed": true,
    "scrolled": true
   },
   "outputs": [],
   "source": [
    "# Decoding names\n",
    "def decodeTitle(name):\n",
    "    signif_titles=['Mr.','Miss.','Mrs.','Master.'] \n",
    "    # cut exactly title from column Name\n",
    "    title=name[name.find(',')+2:name.find('.')+1]\n",
    "    if title in signif_titles:  return(title)\n",
    "    else: return('Arist.')\n",
    "    \n",
    "DF['Title']=DF['Name'].apply(decodeTitle)\n",
    "DF.loc[88,'Title']='Miss'\n",
    "DF.loc[550,'Name']='Thayer, Mr. NOjo Borland Jr'"
   ]
  },
  {
   "cell_type": "code",
   "execution_count": null,
   "metadata": {},
   "outputs": [],
   "source": [
    "# Decodng cabins\n",
    "def number(string):\n",
    "    if pd.notnull(string):\n",
    "        numbers=[int(i) for i in re.findall('(\\d+)',string)]\n",
    "        return(np.mean(numbers))\n",
    "def symbol(string):\n",
    "    if pd.notnull(string):\n",
    "        return(True)\n",
    "    else: return(False)\n",
    "\n",
    "DF['CabinSymbol'] = DF.Cabin.apply(symbol)\n",
    "DF['CabinNumber'] = DF.Cabin.apply(number)"
   ]
  },
  {
   "cell_type": "code",
   "execution_count": null,
   "metadata": {
    "collapsed": true
   },
   "outputs": [],
   "source": [
    "Ages, Fares=[0],[0]\n",
    "for i in [1,2,3]:\n",
    "    Ages.append(int(DF[DF.Pclass==i]['Age'].mean()))\n",
    "    Fares.append(int(DF[DF.Pclass==i]['Fare'].mean()))\n",
    "def funca(row):\n",
    "    if row[0]>0: \n",
    "        age=row[0]\n",
    "    else: \n",
    "        age=Ages[row[7]]\n",
    "    return(age)\n",
    "def funcb(row):\n",
    "    if row[3]>0: \n",
    "        fare=row[3]\n",
    "    else: \n",
    "        fare=Fares[row[7]]\n",
    "    return(fare)\n",
    "                 \n",
    "DF['Age']=DF.apply(funca,axis=1)\n",
    "DF['Fare']=DF.apply(funcb,axis=1)"
   ]
  },
  {
   "cell_type": "code",
   "execution_count": null,
   "metadata": {
    "collapsed": true,
    "scrolled": true
   },
   "outputs": [],
   "source": [
    "def name(name):\n",
    "        name=name[name.find('. ')+2:]\n",
    "        if name.find(' ')==-1:\n",
    "            return(name)\n",
    "        else: return(name[:name.find(' ')])\n",
    "def virgin_surname(name):\n",
    "    if name.find('(')!=-1:\n",
    "        return(name[name.rfind(' '):name.find(')')])\n",
    "def husb_or_wife(row):\n",
    "    if (row[8]=='female') and (row[4].find('Mrs.')!=-1):\n",
    "        return(row[17])\n",
    "DF['Surname']=DF.Name.apply(lambda x: x[:x.find(',')])\n",
    "DF['Virg_surname']=DF.Name.apply(virgin_surname)\n",
    "DF['First_name']=DF.Name.apply(name)\n",
    "DF['Husb_name']=DF.apply(husb_or_wife,axis=1)\n",
    "Family=pd.DataFrame(DF.Surname.value_counts())"
   ]
  },
  {
   "cell_type": "code",
   "execution_count": null,
   "metadata": {},
   "outputs": [],
   "source": [
    "# DF['wife']=DF.apply(find_my_wife, axis=1)\n",
    "# DF['how_is_wife']=DF.apply(how_is_wife, axis=1)\n",
    "# DF['childs']=DF.apply(find_my_childs, axis=1)\n",
    "# DF['bro']=DF.apply(find_my_bro, axis=1)\n",
    "# DF['how_are_childs']=DF.apply(how_are_childs, axis=1)    \n",
    "# DF['how_are_bro']=DF.apply(how_are_bro,axis=1)\n",
    "DF['parents']=DF.apply(find_my_parents, axis=1)\n",
    "DF['how_are_parents']=DF.apply(how_are_parents, axis=1) \n",
    "DF['husband']=DF.apply(find_my_husb, axis=1)\n",
    "DF['how_is_my_husb']=DF.apply(how_is_husb, axis=1)"
   ]
  },
  {
   "cell_type": "code",
   "execution_count": null,
   "metadata": {
    "collapsed": true
   },
   "outputs": [],
   "source": [
    "DF['Title']=DF['Title'].astype('category').cat.codes\n",
    "DF['CabinSymbol']=DF['CabinSymbol'].astype('category').cat.codes\n",
    "DF['Sex']=DF['Sex'].astype('category').cat.codes\n",
    "DF['Embarked']=DF['Embarked'].astype('category').cat.codes"
   ]
  },
  {
   "cell_type": "code",
   "execution_count": null,
   "metadata": {
    "collapsed": true
   },
   "outputs": [],
   "source": [
    "from sklearn.utils import shuffle\n",
    "DF = shuffle(DF, random_state = 187)"
   ]
  },
  {
   "cell_type": "code",
   "execution_count": null,
   "metadata": {},
   "outputs": [],
   "source": [
    "DF_train=DF[DF.Survived.notnull()]\n",
    "DF_test=DF[DF.Survived.notnull()==False]\n",
    "X_train=DF_train[['How_is_my_wife','Pclass','Sex','Age','Cabin_Symbol','nearest','']]\n",
    "X_train.fillna(-1, inplace=True)\n",
    "Y_train=DF_train['Survived']\n",
    "from sklearn.grid_search import GridSearchCV\n",
    "from sklearn.ensemble import RandomForestClassifier\n",
    "from sklearn.model_selection import cross_val_score\n",
    "optimizer = GridSearchCV(RandomForestClassifier(), \\\n",
    "                         {'max_features' : [0.4, 0.6, 0.8, 1.0], \n",
    "                          'max_depth' : [5, 10, 15, 25, 35, 45, 55, 65], \n",
    "                          'n_estimators' : [1, 5, 10, 15, 30, 50, 70, 90, 100]},\\\n",
    "                         cv = 15, \\\n",
    "                         n_jobs=-1)\n",
    "optimizer.fit(X_train,Y_train)\n",
    "# print(cross_val_score(optimizer,DF_train[['How_is_my_siblings','Pclass','Title']], DF_train['Survived']))\n",
    "print('Random Forest Best Result', optimizer.best_score_)\n",
    "print('Best Parameters', optimizer.best_params_)"
   ]
  },
  {
   "cell_type": "code",
   "execution_count": null,
   "metadata": {},
   "outputs": [],
   "source": [
    "X_test=DF_test[['How_is_my_wife','how_is_my_husb','how_are_childs','how_are_bro','Pclass','Sex','Title']]\n",
    "X_test.fillna(-1, inplace=True)\n",
    "def writeAnswer(filename, optimizer):\n",
    "    prediction = optimizer.predict(X_test)\n",
    "    submission = pd.DataFrame({\n",
    "            \"PassengerId\": test[\"PassengerId\"],\n",
    "            \"Survived\": prediction\n",
    "        })\n",
    "    submission.Survived=submission.Survived.astype('int64',copy=False)\n",
    "    submission.to_csv(filename, index=False)\n",
    "    \n",
    "writeAnswer('Its_alive.csv', optimizer)"
   ]
  },
  {
   "cell_type": "code",
   "execution_count": null,
   "metadata": {},
   "outputs": [],
   "source": [
    "DF_train=new[new.Survived.notnull()]\n",
    "# DF_train=DF_train[DF['count']>3]\n",
    "X_train=DF_train[['How_is_my_wife','how_is_my_husb','how_are_childs','how_are_bro']]\n",
    "Y_train=DF_train['Survived']\n",
    "from sklearn.model_selection import cross_val_score\n",
    "from sklearn import metrics\n",
    "from sklearn.linear_model import LogisticRegression\n",
    "model = LogisticRegression()\n",
    "print(cross_val_score(model,X_train, Y_train))\n"
   ]
  },
  {
   "cell_type": "code",
   "execution_count": null,
   "metadata": {
    "collapsed": true,
    "scrolled": true
   },
   "outputs": [],
   "source": [
    "## Big pack of setting of relationship between passengers\n",
    "def find_my_wife(row):\n",
    "    if (row[8]=='male') and (row[12]!='Master.') and ('Jr' not in row[4]):\n",
    "        probably_wife=DF[(DF['Surname']==row[15]) & (DF['Husb_name']==row[17]) & (DF['Title']=='Mrs.') & (DF['Title']!='Arist.')]\n",
    "        if len(probably_wife)!=0:\n",
    "            return(int(probably_wife['PassengerId']))\n",
    "        else:return(-999)\n",
    "    else: return(-888)\n",
    "\n",
    "#0 - not survived, 1- survived, 2 - not in a board, 3 - woman or child, 4 - no data\n",
    "def how_is_wife(row):\n",
    "    if row[19]>0:\n",
    "        surv=DF[DF['PassengerId']==row[19]]['Survived']\n",
    "        if pd.notnull(surv.values):\n",
    "            return(surv.values[0])\n",
    "        else: return(4)\n",
    "    elif row[19]>-900: return(3)\n",
    "    else: return(2)\n",
    "\n",
    "\n",
    "def find_my_childs(row):\n",
    "    if row[12] in ['Mrs.','Mr.','Arist.']:\n",
    "        probably_childs=DF[(DF['Surname']==row[15]) & ((DF['Title']=='Master.') | (DF['Title']=='Miss.') | (DF['Title']=='Mr.'))]\n",
    "        probably_childs=probably_childs[(probably_childs['SibSp']==row[5]-1) & (probably_childs['Name']!=row[4])]\n",
    "        probably_childs=probably_childs[(probably_childs['wife'].notnull()==False) | (probably_childs['SibSp']!=1)]\n",
    "        if len(probably_childs)!=0:\n",
    "            return(list(probably_childs['PassengerId']))\n",
    "        else: return([-999,0])\n",
    "    else: return([-888,0])\n",
    "\n",
    "def find_my_bro(row):\n",
    "    if row[12] in ['Master.','Miss.','Mr.']:\n",
    "        probably_childs=DF[(DF['Surname']==row[15]) & ((DF['Title']=='Master.') | (DF['Title']=='Miss.') | (DF['Title']=='Mr.'))]\n",
    "        probably_childs=probably_childs[(probably_childs['Parch']==row[5]) & (probably_childs['SibSp']==row[9]) & (probably_childs['Name']!=row[4])]\n",
    "        probably_childs=probably_childs[probably_childs['PassengerId'].isin(row[21])==False]\n",
    "        if len(probably_childs)!=0:\n",
    "            return(list(probably_childs['PassengerId']))\n",
    "        else: return([-999,0])\n",
    "    else: return([-888,0])\n",
    "\n",
    "def how_are_childs(row):\n",
    "    if row[21][0]>0:\n",
    "        surv_index,j=[],np.nan\n",
    "        for i in row[21]:\n",
    "            surv_index.append(DF[DF['PassengerId']==i]['Survived'].iloc[0])\n",
    "            j=np.nanmean(surv_index)\n",
    "        if pd.notnull(j):\n",
    "            return(j)\n",
    "        else:return(4)\n",
    "    elif row[21][0]>-900: return(3)\n",
    "    else: return(2)   \n",
    "    \n",
    "    \n",
    "def how_are_bro(row):\n",
    "    if row[22][0]>0:\n",
    "        surv_index,j=[],np.nan\n",
    "        for i in row[22]:\n",
    "            surv_index.append(DF[DF['PassengerId']==i]['Survived'].iloc[0])\n",
    "            j=np.nanmean(surv_index)\n",
    "        if pd.notnull(j):\n",
    "            return(j)\n",
    "        else:return(4)\n",
    "    elif row[22][0]>-900: return(3)\n",
    "    else: return(2)   \n",
    "    \n",
    "\n",
    "def find_my_parents(row):\n",
    "    if row[12] in ['Miss.','Master.']:\n",
    "        probably_childs=DF[(DF['Surname']==row[15]) & ((DF['Title']=='Mrs.') | (DF['Title']=='Mr.') | (DF['Title']=='Arist.'))]\n",
    "        probably_childs=probably_childs[(probably_childs['SibSp']==row[5]-1) & (probably_childs['Name']!=row[4])]\n",
    "        if len(probably_childs)!=0:\n",
    "            return(list(probably_childs['PassengerId']))\n",
    "        else: return([-999,0])\n",
    "    else: return([-888,0])\n",
    "\n",
    "def how_are_parents(row):\n",
    "    if row[25][0]>0:\n",
    "        surv_index,j=[],np.nan\n",
    "        for i in row[25]:\n",
    "            surv_index.append(DF[DF['PassengerId']==i]['Survived'].iloc[0])\n",
    "            j=np.nanmean(surv_index)\n",
    "            if pd.notnull(j):\n",
    "                return(j)\n",
    "            else:return(4)\n",
    "    elif row[25][0]>-900: return(3)\n",
    "    else: return(2)  \n",
    "\n",
    "\n",
    "def find_my_husb(row):\n",
    "    if (row[8]=='female') and (row[12]!='Miss.'):\n",
    "        probably_wife=DF[(DF['Surname']==row[15]) & (DF['Title']!='Master.') & (DF['First_name']==row[17]) & (DF['Name']!=row[4])]\n",
    "        if len(probably_wife)!=0:\n",
    "            return(int(probably_wife['PassengerId']))\n",
    "        else:return(-999)\n",
    "    else: return(-888)\n",
    "\n",
    "def how_is_husb(row):\n",
    "    if row[27]>0:\n",
    "        surv=DF[DF['PassengerId']==row[27]]['Survived']\n",
    "        if pd.notnull(surv.values):\n",
    "            return(surv.values[0])\n",
    "        else: return(4)\n",
    "    elif row[27]>-900: return(3)\n",
    "    else: return(2)"
   ]
  },
  {
   "cell_type": "code",
   "execution_count": null,
   "metadata": {},
   "outputs": [],
   "source": [
    "pd.crosstab(DF.how_are_bro,DF.how_are_parents)"
   ]
  },
  {
   "cell_type": "code",
   "execution_count": null,
   "metadata": {},
   "outputs": [],
   "source": [
    "pd.crosstab(DF.how_is_wife,DF.Survived)"
   ]
  },
  {
   "cell_type": "code",
   "execution_count": null,
   "metadata": {},
   "outputs": [],
   "source": [
    "a=[np.nan,np.nan,np.nan]\n",
    "np.nanmean(a)"
   ]
  },
  {
   "cell_type": "code",
   "execution_count": null,
   "metadata": {},
   "outputs": [],
   "source": [
    "pd.crosstab(DF.Survived,DF.how_are_childs)"
   ]
  },
  {
   "cell_type": "code",
   "execution_count": null,
   "metadata": {},
   "outputs": [],
   "source": [
    "DF[DF['PassengerId']==408]['Survived'].values[0]"
   ]
  },
  {
   "cell_type": "code",
   "execution_count": null,
   "metadata": {},
   "outputs": [],
   "source": [
    "[-99,0]"
   ]
  },
  {
   "cell_type": "code",
   "execution_count": null,
   "metadata": {
    "collapsed": true
   },
   "outputs": [],
   "source": []
  }
 ],
 "metadata": {
  "anaconda-cloud": {},
  "kernelspec": {
   "display_name": "Python 3",
   "language": "python",
   "name": "python3"
  },
  "language_info": {
   "codemirror_mode": {
    "name": "ipython",
    "version": 3
   },
   "file_extension": ".py",
   "mimetype": "text/x-python",
   "name": "python",
   "nbconvert_exporter": "python",
   "pygments_lexer": "ipython3",
   "version": "3.6.3"
  }
 },
 "nbformat": 4,
 "nbformat_minor": 2
}
