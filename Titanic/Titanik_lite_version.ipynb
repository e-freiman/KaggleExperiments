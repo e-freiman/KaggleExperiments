{
 "cells": [
  {
   "cell_type": "code",
   "execution_count": 292,
   "metadata": {
    "collapsed": true
   },
   "outputs": [],
   "source": [
    "# Loading data\n",
    "\n",
    "import numpy as np\n",
    "import pandas as pd\n",
    "import re\n",
    "import matplotlib.pyplot as plt\n",
    "import seaborn as sns\n",
    "%matplotlib inline\n",
    "train = pd.read_csv('input/train.csv')\n",
    "test = pd.read_csv('input/test.csv')\n",
    "DF=pd.concat([train,test])\n",
    "pd.options.display.max_columns=30"
   ]
  },
  {
   "cell_type": "code",
   "execution_count": 293,
   "metadata": {
    "collapsed": true,
    "scrolled": true
   },
   "outputs": [],
   "source": [
    "# Decoding names\n",
    "def decodeTitle(name):\n",
    "    signif_titles=['Mr.','Miss.','Mrs.','Master.'] \n",
    "    # cut exactly title from column Name\n",
    "    title=name[name.find(',')+2:name.find('.')+1]\n",
    "    if title in signif_titles:  return(title)\n",
    "    else: return('Arist.')\n",
    "    \n",
    "DF['Title']=DF['Name'].apply(decodeTitle)\n",
    "DF.loc[88,'Title']='Miss.'\n",
    "DF.loc[550,'Name']='Thayer, Mr. NOjo Borland Jr'"
   ]
  },
  {
   "cell_type": "code",
   "execution_count": 294,
   "metadata": {
    "collapsed": false
   },
   "outputs": [
    {
     "name": "stderr",
     "output_type": "stream",
     "text": [
      "C:\\Users\\user\\Anaconda3\\lib\\site-packages\\numpy\\core\\fromnumeric.py:2909: RuntimeWarning: Mean of empty slice.\n",
      "  out=out, **kwargs)\n"
     ]
    }
   ],
   "source": [
    "# Decodng cabins\n",
    "def number(string):\n",
    "    if pd.notnull(string):\n",
    "        numbers=[int(i) for i in re.findall('(\\d+)',string)]\n",
    "        return(np.mean(numbers))\n",
    "def symbol(string):\n",
    "    if pd.notnull(string):\n",
    "        return(True)\n",
    "    else: return(False)\n",
    "\n",
    "DF['CabinSymbol'] = DF.Cabin.apply(symbol)\n",
    "DF['CabinNumber'] = DF.Cabin.apply(number)"
   ]
  },
  {
   "cell_type": "code",
   "execution_count": 70,
   "metadata": {
    "collapsed": true
   },
   "outputs": [],
   "source": [
    "median_age_DF=DF.groupby(['Title','Pclass'])['Age'].median()\n",
    "median_fare_DF=DF.groupby(['Title','Pclass'])['Fare'].median()\n",
    "DF['Age']= DF.apply(lambda row: median_age_DF[row['Title'],row['Pclass']] if np.isnan(row['Age'])  else row['Age'],axis=1)\n",
    "DF['Fare']=DF.apply(lambda row:median_fare_DF[row['Title'],row['Pclass']] if np.isnan(row['Fare']) else row['Fare'],axis=1)"
   ]
  },
  {
   "cell_type": "code",
   "execution_count": 71,
   "metadata": {
    "collapsed": true,
    "scrolled": true
   },
   "outputs": [],
   "source": [
    "def name(name):\n",
    "        name=name[name.find('. ')+2:]\n",
    "        if name.find(' ')==-1:\n",
    "            return(name)\n",
    "        else: return(name[:name.find(' ')])\n",
    "def virgin_surname(name):\n",
    "    if name.find('(')!=-1:\n",
    "        return(name[name.rfind(' '):name.find(')')])\n",
    "def husb_or_wife(row):\n",
    "    if (row[8]=='female') and (row[4].find('Mrs.')!=-1):\n",
    "        return(row[17])\n",
    "DF['Surname']=DF.Name.apply(lambda x: x[:x.find(',')])\n",
    "DF['Virg_surname']=DF.Name.apply(virgin_surname)\n",
    "DF['First_name']=DF.Name.apply(name)\n",
    "DF['Husb_name']=DF.apply(husb_or_wife,axis=1)"
   ]
  },
  {
   "cell_type": "code",
   "execution_count": 72,
   "metadata": {
    "collapsed": false
   },
   "outputs": [
    {
     "name": "stdout",
     "output_type": "stream",
     "text": [
      "     Age Cabin Embarked  Fare                            Name  Parch  \\\n",
      "193  3.0    F2        S  26.0      Navratil, Master. Michel M      1   \n",
      "340  2.0    F2        S  26.0  Navratil, Master. Edmond Roger      1   \n",
      "\n",
      "     PassengerId  Pclass   Sex  SibSp  Survived  Ticket    Title  CabinSymbol  \\\n",
      "193          194       2  male      1       1.0  230080  Master.         True   \n",
      "340          341       2  male      1       1.0  230080  Master.         True   \n",
      "\n",
      "     CabinNumber   Surname Virg_surname First_name Husb_name  wife  \\\n",
      "193          2.0  Navratil         None     Michel      None  -888   \n",
      "340          2.0  Navratil         None     Edmond      None  -888   \n",
      "\n",
      "     how_is_wife  \n",
      "193          3.0  \n",
      "340          3.0  \n",
      "     Age Cabin Embarked  Fare                            Name  Parch  \\\n",
      "193  3.0    F2        S  26.0      Navratil, Master. Michel M      1   \n",
      "340  2.0    F2        S  26.0  Navratil, Master. Edmond Roger      1   \n",
      "\n",
      "     PassengerId  Pclass   Sex  SibSp  Survived  Ticket    Title  CabinSymbol  \\\n",
      "193          194       2  male      1       1.0  230080  Master.         True   \n",
      "340          341       2  male      1       1.0  230080  Master.         True   \n",
      "\n",
      "     CabinNumber   Surname Virg_surname First_name Husb_name  wife  \\\n",
      "193          2.0  Navratil         None     Michel      None  -888   \n",
      "340          2.0  Navratil         None     Edmond      None  -888   \n",
      "\n",
      "     how_is_wife  \n",
      "193          3.0  \n",
      "340          3.0  \n"
     ]
    },
    {
     "name": "stderr",
     "output_type": "stream",
     "text": [
      "C:\\Users\\user\\Anaconda3\\lib\\site-packages\\ipykernel\\__main__.py:48: RuntimeWarning: Mean of empty slice\n",
      "C:\\Users\\user\\Anaconda3\\lib\\site-packages\\ipykernel\\__main__.py:61: RuntimeWarning: Mean of empty slice\n"
     ]
    },
    {
     "name": "stdout",
     "output_type": "stream",
     "text": [
      "[451, 473]\n",
      "451 450    0.0\n",
      "Name: Survived, dtype: float64\n",
      "473 472    1.0\n",
      "Name: Survived, dtype: float64\n"
     ]
    }
   ],
   "source": [
    "DF['wife']=DF.apply(find_my_wife, axis=1)\n",
    "DF['how_is_wife']=DF.apply(how_is_wife, axis=1)\n",
    "DF['childs']=DF.apply(find_my_childs, axis=1)\n",
    "DF['bro']=DF.apply(find_my_bro, axis=1)\n",
    "DF['how_are_childs']=DF.apply(how_are_childs, axis=1)    \n",
    "DF['how_are_bro']=DF.apply(how_are_bro,axis=1)\n",
    "DF['parents']=DF.apply(find_my_parents, axis=1)\n",
    "DF['how_are_parents']=DF.apply(how_are_parents, axis=1) \n",
    "DF['husband']=DF.apply(find_my_husb, axis=1)\n",
    "DF['how_is_my_husb']=DF.apply(how_is_husb, axis=1)"
   ]
  },
  {
   "cell_type": "code",
   "execution_count": 73,
   "metadata": {
    "collapsed": true
   },
   "outputs": [],
   "source": [
    "DF['Title_code']=DF['Title'].astype('category').cat.codes\n",
    "DF['CabinSymbol']=DF['CabinSymbol'].astype('category').cat.codes\n",
    "DF['Sex']=DF['Sex'].astype('category').cat.codes\n",
    "DF['Embarked']=DF['Embarked'].astype('category').cat.codes"
   ]
  },
  {
   "cell_type": "code",
   "execution_count": null,
   "metadata": {
    "collapsed": true
   },
   "outputs": [],
   "source": [
    "from sklearn.utils import shuffle\n",
    "DF = shuffle(DF, random_state = 187)"
   ]
  },
  {
   "cell_type": "code",
   "execution_count": 254,
   "metadata": {
    "collapsed": false
   },
   "outputs": [],
   "source": [
    "DF_train=DF[DF.Survived.notnull()]\n",
    "DF_test=DF[DF.Survived.notnull()==False]\n",
    "# X_train=DF_train[['Family_param','Pclass','Sex','Title_code']]\n",
    "# X_train.fillna(-1, inplace=True)\n",
    "# Y_train=DF_train['Survived']\n",
    "# from sklearn.grid_search import GridSearchCV\n",
    "# from sklearn.ensemble import RandomForestClassifier\n",
    "# from sklearn.model_selection import cross_val_score\n",
    "# optimizer = GridSearchCV(RandomForestClassifier(), \\\n",
    "#                          {'max_features' : [0.4, 0.6, 0.8, 1.0], \n",
    "#                           'max_depth' : [5, 10, 15, 25, 35, 45, 55, 65], \n",
    "#                           'n_estimators' : [1, 5, 10, 15, 30, 50, 70, 90, 100]},\\\n",
    "#                          cv = 15, \\\n",
    "#                          n_jobs=-1)\n",
    "# optimizer.fit(X_train,Y_train)\n",
    "# print('Random Forest Best Result', optimizer.best_score_)\n",
    "# print('Best Parameters', optimizer.best_params_)"
   ]
  },
  {
   "cell_type": "code",
   "execution_count": null,
   "metadata": {
    "collapsed": false
   },
   "outputs": [],
   "source": [
    "X_test=DF_test[['Family_param','Pclass','Sex','Title_code']]\n",
    "def writeAnswer(filename, optimizer):\n",
    "    prediction = optimizer.predict(X_test)\n",
    "    submission = pd.DataFrame({\n",
    "            \"PassengerId\": test[\"PassengerId\"],\n",
    "            \"Survived\": prediction\n",
    "        })\n",
    "    submission.Survived=submission.Survived.astype('int64',copy=False)\n",
    "    submission.to_csv(filename, index=False)\n",
    "    \n",
    "writeAnswer('results.csv', optimizer)"
   ]
  },
  {
   "cell_type": "code",
   "execution_count": 261,
   "metadata": {
    "collapsed": false
   },
   "outputs": [
    {
     "ename": "ValueError",
     "evalue": "Input contains NaN, infinity or a value too large for dtype('float64').",
     "output_type": "error",
     "traceback": [
      "\u001b[0;31m---------------------------------------------------------------------------\u001b[0m",
      "\u001b[0;31mValueError\u001b[0m                                Traceback (most recent call last)",
      "\u001b[0;32m<ipython-input-261-fac97b67206e>\u001b[0m in \u001b[0;36m<module>\u001b[0;34m()\u001b[0m\n\u001b[1;32m      6\u001b[0m \u001b[1;32mfrom\u001b[0m \u001b[0msklearn\u001b[0m\u001b[1;33m.\u001b[0m\u001b[0mlinear_model\u001b[0m \u001b[1;32mimport\u001b[0m \u001b[0mLogisticRegression\u001b[0m\u001b[1;33m\u001b[0m\u001b[0m\n\u001b[1;32m      7\u001b[0m \u001b[0mmodel\u001b[0m \u001b[1;33m=\u001b[0m \u001b[0mLogisticRegression\u001b[0m\u001b[1;33m(\u001b[0m\u001b[1;33m)\u001b[0m\u001b[1;33m\u001b[0m\u001b[0m\n\u001b[0;32m----> 8\u001b[0;31m \u001b[0mmodel\u001b[0m\u001b[1;33m.\u001b[0m\u001b[0mfit\u001b[0m\u001b[1;33m(\u001b[0m\u001b[0mX_train\u001b[0m\u001b[1;33m,\u001b[0m \u001b[0mY_train\u001b[0m\u001b[1;33m)\u001b[0m\u001b[1;33m\u001b[0m\u001b[0m\n\u001b[0m\u001b[1;32m      9\u001b[0m \u001b[0mprint\u001b[0m\u001b[1;33m(\u001b[0m\u001b[0mcross_val_score\u001b[0m\u001b[1;33m(\u001b[0m\u001b[0mmodel\u001b[0m\u001b[1;33m,\u001b[0m\u001b[0mX_train\u001b[0m\u001b[1;33m,\u001b[0m \u001b[0mY_train\u001b[0m\u001b[1;33m)\u001b[0m\u001b[1;33m)\u001b[0m\u001b[1;33m\u001b[0m\u001b[0m\n\u001b[1;32m     10\u001b[0m \u001b[1;33m\u001b[0m\u001b[0m\n",
      "\u001b[0;32mC:\\Users\\user\\Anaconda3\\lib\\site-packages\\sklearn\\linear_model\\logistic.py\u001b[0m in \u001b[0;36mfit\u001b[0;34m(self, X, y, sample_weight)\u001b[0m\n\u001b[1;32m   1171\u001b[0m \u001b[1;33m\u001b[0m\u001b[0m\n\u001b[1;32m   1172\u001b[0m         X, y = check_X_y(X, y, accept_sparse='csr', dtype=np.float64,\n\u001b[0;32m-> 1173\u001b[0;31m                          order=\"C\")\n\u001b[0m\u001b[1;32m   1174\u001b[0m         \u001b[0mcheck_classification_targets\u001b[0m\u001b[1;33m(\u001b[0m\u001b[0my\u001b[0m\u001b[1;33m)\u001b[0m\u001b[1;33m\u001b[0m\u001b[0m\n\u001b[1;32m   1175\u001b[0m         \u001b[0mself\u001b[0m\u001b[1;33m.\u001b[0m\u001b[0mclasses_\u001b[0m \u001b[1;33m=\u001b[0m \u001b[0mnp\u001b[0m\u001b[1;33m.\u001b[0m\u001b[0munique\u001b[0m\u001b[1;33m(\u001b[0m\u001b[0my\u001b[0m\u001b[1;33m)\u001b[0m\u001b[1;33m\u001b[0m\u001b[0m\n",
      "\u001b[0;32mC:\\Users\\user\\Anaconda3\\lib\\site-packages\\sklearn\\utils\\validation.py\u001b[0m in \u001b[0;36mcheck_X_y\u001b[0;34m(X, y, accept_sparse, dtype, order, copy, force_all_finite, ensure_2d, allow_nd, multi_output, ensure_min_samples, ensure_min_features, y_numeric, warn_on_dtype, estimator)\u001b[0m\n\u001b[1;32m    519\u001b[0m     X = check_array(X, accept_sparse, dtype, order, copy, force_all_finite,\n\u001b[1;32m    520\u001b[0m                     \u001b[0mensure_2d\u001b[0m\u001b[1;33m,\u001b[0m \u001b[0mallow_nd\u001b[0m\u001b[1;33m,\u001b[0m \u001b[0mensure_min_samples\u001b[0m\u001b[1;33m,\u001b[0m\u001b[1;33m\u001b[0m\u001b[0m\n\u001b[0;32m--> 521\u001b[0;31m                     ensure_min_features, warn_on_dtype, estimator)\n\u001b[0m\u001b[1;32m    522\u001b[0m     \u001b[1;32mif\u001b[0m \u001b[0mmulti_output\u001b[0m\u001b[1;33m:\u001b[0m\u001b[1;33m\u001b[0m\u001b[0m\n\u001b[1;32m    523\u001b[0m         y = check_array(y, 'csr', force_all_finite=True, ensure_2d=False,\n",
      "\u001b[0;32mC:\\Users\\user\\Anaconda3\\lib\\site-packages\\sklearn\\utils\\validation.py\u001b[0m in \u001b[0;36mcheck_array\u001b[0;34m(array, accept_sparse, dtype, order, copy, force_all_finite, ensure_2d, allow_nd, ensure_min_samples, ensure_min_features, warn_on_dtype, estimator)\u001b[0m\n\u001b[1;32m    405\u001b[0m                              % (array.ndim, estimator_name))\n\u001b[1;32m    406\u001b[0m         \u001b[1;32mif\u001b[0m \u001b[0mforce_all_finite\u001b[0m\u001b[1;33m:\u001b[0m\u001b[1;33m\u001b[0m\u001b[0m\n\u001b[0;32m--> 407\u001b[0;31m             \u001b[0m_assert_all_finite\u001b[0m\u001b[1;33m(\u001b[0m\u001b[0marray\u001b[0m\u001b[1;33m)\u001b[0m\u001b[1;33m\u001b[0m\u001b[0m\n\u001b[0m\u001b[1;32m    408\u001b[0m \u001b[1;33m\u001b[0m\u001b[0m\n\u001b[1;32m    409\u001b[0m     \u001b[0mshape_repr\u001b[0m \u001b[1;33m=\u001b[0m \u001b[0m_shape_repr\u001b[0m\u001b[1;33m(\u001b[0m\u001b[0marray\u001b[0m\u001b[1;33m.\u001b[0m\u001b[0mshape\u001b[0m\u001b[1;33m)\u001b[0m\u001b[1;33m\u001b[0m\u001b[0m\n",
      "\u001b[0;32mC:\\Users\\user\\Anaconda3\\lib\\site-packages\\sklearn\\utils\\validation.py\u001b[0m in \u001b[0;36m_assert_all_finite\u001b[0;34m(X)\u001b[0m\n\u001b[1;32m     56\u001b[0m             and not np.isfinite(X).all()):\n\u001b[1;32m     57\u001b[0m         raise ValueError(\"Input contains NaN, infinity\"\n\u001b[0;32m---> 58\u001b[0;31m                          \" or a value too large for %r.\" % X.dtype)\n\u001b[0m\u001b[1;32m     59\u001b[0m \u001b[1;33m\u001b[0m\u001b[0m\n\u001b[1;32m     60\u001b[0m \u001b[1;33m\u001b[0m\u001b[0m\n",
      "\u001b[0;31mValueError\u001b[0m: Input contains NaN, infinity or a value too large for dtype('float64')."
     ]
    }
   ],
   "source": [
    "X_train=DF_train[['Family_param','my_neight','Pclass']]\n",
    "Y_train=DF_train['Survived']\n",
    "X_test=DF_test[['Family_param','my_neight','Pclass']]\n",
    "from sklearn.model_selection import cross_val_score\n",
    "from sklearn import metrics\n",
    "from sklearn.linear_model import LogisticRegression\n",
    "model = LogisticRegression()\n",
    "model.fit(X_train, Y_train)\n",
    "print(cross_val_score(model,X_train, Y_train))\n",
    "\n",
    "def writeAnswer(filename, model):\n",
    "    prediction = model.predict(X_test)\n",
    "    submission = pd.DataFrame({\n",
    "            \"PassengerId\": DF_test[\"PassengerId\"],\n",
    "            \"Survived\": prediction\n",
    "        })\n",
    "    submission.Survived=submission.Survived.astype('int64',copy=False)\n",
    "    submission.sort_values('PassengerId').to_csv(filename, index=False)\n",
    "    return(submission)\n",
    "    \n",
    "r=writeAnswer('results.csv', model)"
   ]
  },
  {
   "cell_type": "code",
   "execution_count": 257,
   "metadata": {
    "collapsed": false,
    "scrolled": true
   },
   "outputs": [],
   "source": [
    "## Big pack of setting of relationship between passengers\n",
    "def find_my_wife(row):\n",
    "    if (row[8]=='male') and (row[12]!='Master.') and ('Jr' not in row[4]):\n",
    "        probably_wife=DF[(DF['Surname']==row[15]) & (DF['Husb_name']==row[17]) & (DF['Title']=='Mrs.') & (DF['Title']!='Arist.')]\n",
    "        if len(probably_wife)!=0:\n",
    "            return(int(probably_wife['PassengerId']))\n",
    "        else:return(-999)\n",
    "    else: return(-888)\n",
    "\n",
    "#0 - not survived, 1- survived, 2 - not in a board, 3 - woman or child, 4 - no data\n",
    "def how_is_wife(row):\n",
    "    if row[19]>0:\n",
    "        surv=DF[DF['PassengerId']==row[19]]['Survived']\n",
    "        if pd.notnull(surv.values):\n",
    "            return(surv.values[0])\n",
    "        else: return(4)\n",
    "    elif row[19]>-900: return(3)\n",
    "    else: return(2)\n",
    "\n",
    "\n",
    "def find_my_childs(row):\n",
    "    if row[12] in ['Mrs.','Mr.','Arist.']:\n",
    "        probably_childs=DF[(DF['Surname']==row[15]) & ((DF['Title']=='Master.') | (DF['Title']=='Miss.') | (DF['Title']=='Mr.'))]\n",
    "        probably_childs=probably_childs[(probably_childs['SibSp']==row[5]-1) & (probably_childs['Name']!=row[4])]\n",
    "        probably_childs=probably_childs[(probably_childs['wife']<0) | (probably_childs['SibSp']!=1)]\n",
    "        if len(probably_childs)!=0:\n",
    "            return(list(probably_childs['PassengerId']))\n",
    "        else: return([-999,0])\n",
    "    else: return([-888,0])\n",
    "\n",
    "def find_my_bro(row):\n",
    "    if row[12] in ['Master.','Miss.','Mr.']:\n",
    "        probably_childs=DF[(DF['Surname']==row[15]) & ((DF['Title']=='Master.') | (DF['Title']=='Miss.') | (DF['Title']=='Mr.'))]\n",
    "        probably_childs=probably_childs[(probably_childs['Parch']==row[5]) & (probably_childs['SibSp']==row[9]) & (probably_childs['Name']!=row[4])]\n",
    "        probably_childs=probably_childs[probably_childs['PassengerId'].isin(row[21])==False]\n",
    "        if len(probably_childs)!=0:\n",
    "            return(list(probably_childs['PassengerId']))\n",
    "        else: return([-999,0])\n",
    "    else: return([-888,0])\n",
    "\n",
    "def how_are_childs(row):\n",
    "    if row[21][0]>0:\n",
    "        surv_index,j=[],np.nan\n",
    "        for i in row[21]:\n",
    "            surv_index.append(DF[DF['PassengerId']==i]['Survived'].iloc[0])\n",
    "            j=np.nanmean(surv_index)\n",
    "        if pd.notnull(j):\n",
    "            return(j)\n",
    "        else:return(4)\n",
    "    elif row[21][0]>-900: return(3)\n",
    "    else: return(2)   \n",
    "    \n",
    "    \n",
    "def how_are_bro(row):\n",
    "    if row[22][0]>0:\n",
    "        surv_index,j=[],np.nan\n",
    "        for i in row[22]:\n",
    "            surv_index.append(DF[DF['PassengerId']==i]['Survived'].iloc[0])\n",
    "            j=np.nanmean(surv_index)\n",
    "        if pd.notnull(j):\n",
    "            return(j)\n",
    "        else:return(4)\n",
    "    elif row[22][0]>-900: return(3)\n",
    "    else: return(2)   \n",
    "    \n",
    "\n",
    "def find_my_parents(row):\n",
    "    if row[12] in ['Miss.','Master.']:\n",
    "        probably_childs=DF[(DF['Surname']==row[15]) & ((DF['Title']=='Mrs.') | (DF['Title']=='Mr.') | (DF['Title']=='Arist.'))]\n",
    "        probably_childs=probably_childs[(probably_childs['SibSp']==row[5]-1) & (probably_childs['Name']!=row[4])]\n",
    "        if len(probably_childs)!=0:\n",
    "            return(list(probably_childs['PassengerId']))\n",
    "        else: return([-999,0])\n",
    "    else: return([-888,0])\n",
    "\n",
    "def how_are_parents(row):\n",
    "    if row[25][0]>0:\n",
    "        if row[6]==59: print(row[25])\n",
    "        surv_index,j=[],np.nan\n",
    "        for i in row[25]:\n",
    "            if row[6]==59: print(i, DF[DF['PassengerId']==i]['Survived'])\n",
    "            surv_index.append(DF[DF['PassengerId']==i]['Survived'].iloc[0])\n",
    "        for q in surv_index: \n",
    "            if pd.notnull(q)==False:return(4)\n",
    "        j=np.nanmean(surv_index)\n",
    "        if pd.notnull(j):\n",
    "            return(j)\n",
    "        else:return(4)\n",
    "    elif row[25][0]>-900: return(3)\n",
    "    else: return(2)  \n",
    "\n",
    "\n",
    "def find_my_husb(row):\n",
    "    if (row[8]=='female') and (row[12]!='Miss.'):\n",
    "        probably_wife=DF[(DF['Surname']==row[15]) & (DF['Title']!='Master.') & (DF['First_name']==row[17]) & (DF['Name']!=row[4])]\n",
    "        if len(probably_wife)!=0:\n",
    "            return(int(probably_wife['PassengerId']))\n",
    "        else:return(-999)\n",
    "    else: return(-888)\n",
    "\n",
    "def how_is_husb(row):\n",
    "    if row[27]>0:\n",
    "        surv=DF[DF['PassengerId']==row[27]]['Survived']\n",
    "        if pd.notnull(surv.values):\n",
    "            return(surv.values[0])\n",
    "        else: return(4)\n",
    "    elif row[27]>-900: return(3)\n",
    "    else: return(2)"
   ]
  },
  {
   "cell_type": "code",
   "execution_count": 258,
   "metadata": {
    "collapsed": false
   },
   "outputs": [],
   "source": [
    "def My_family(row):\n",
    "    if row[12] in ['Miss.','Master.']:\n",
    "        if row[26]>0.4 and row[26]<=1: return(1)\n",
    "        elif row[26]==0: return(0)\n",
    "        elif row[24]>=0.5 and row[24]<=1: return(1)\n",
    "        elif row[24]==0 and row[7]==3: return(0)\n",
    "        elif row[7]<3: return(1)\n",
    "        elif row[12]=='Miss.': return(0.7)\n",
    "        else:return(0.5)\n",
    "    if row[12] in ['Mrs.','Arist.'] and row[8]==0:\n",
    "        if row[23]<0.5: return(0)\n",
    "        elif row[23] in [0.5, 0.666667,1]: return(1)\n",
    "        elif row[28]==1: return(1)\n",
    "        elif row[28]==4: return(0.74)\n",
    "        elif row[7] in [3]: return(0.7)\n",
    "        else: return(1)\n",
    "    if row[12] in ['Mr.','Arist.'] and row[8]==1:\n",
    "        if row[20]==0: return(0)\n",
    "        if row[20]==1: return(0.3)\n",
    "        elif row[23]<1: return(0)\n",
    "        elif row[24]<1:return(0.08)\n",
    "        elif row[23]==4: return(0.04)\n",
    "        elif row[20]==4:  return(0.24)\n",
    "        elif row[24]==4: return(0.09)\n",
    "        else: return(0.16) \n",
    "            \n",
    "    \n",
    "    \n",
    "DF['Family_param']=DF.apply(My_family,axis=1)"
   ]
  },
  {
   "cell_type": "code",
   "execution_count": 75,
   "metadata": {
    "collapsed": false
   },
   "outputs": [],
   "source": [
    "def tick_number(string):\n",
    "    tick=re.findall('(\\d+)',string)\n",
    "    if len(tick)>0:\n",
    "        return(int(tick[-1]))\n",
    "    else: return(999999)\n",
    "DF['Ticket_number']=DF.Ticket.apply(tick_number)"
   ]
  },
  {
   "cell_type": "code",
   "execution_count": 259,
   "metadata": {
    "collapsed": false
   },
   "outputs": [],
   "source": [
    "def symbol(num): \n",
    "    if num[0].isdigit()==False:\n",
    "        num=num[:num.find(' ')]\n",
    "        return(re.sub('[/.]', '', num))\n",
    "    else: return('NAN')\n",
    "DF['Ticket_symbol']=DF['Ticket'].apply(symbol)"
   ]
  },
  {
   "cell_type": "code",
   "execution_count": 201,
   "metadata": {
    "collapsed": false
   },
   "outputs": [],
   "source": [
    "DF=DF.sort_values(['Ticket_symbol','Ticket_number'])\n",
    "DF['Ticket_of_my_neight']=DF['Ticket_number'].diff()\n",
    "group=0\n",
    "def my_group(row):\n",
    "    global group\n",
    "    if np.abs(row[34])>5: group+=1\n",
    "    return(group) \n",
    "DF['my_group']=DF.apply(my_group,axis=1)"
   ]
  },
  {
   "cell_type": "code",
   "execution_count": 197,
   "metadata": {
    "collapsed": false,
    "scrolled": true
   },
   "outputs": [],
   "source": [
    "def how_are_neight(x):\n",
    "    return(np.nanmean(DF[(DF['group']==x) & (DF['Title']=='Mr.')]['Survived'].values))\n",
    "DF['my_neight']=DF.group.apply(how_are_neight)"
   ]
  },
  {
   "cell_type": "code",
   "execution_count": 303,
   "metadata": {
    "collapsed": false
   },
   "outputs": [],
   "source": [
    "median_fare_DF=DF.groupby(['Title','Pclass'])['Fare'].median()"
   ]
  },
  {
   "cell_type": "code",
   "execution_count": 298,
   "metadata": {
    "collapsed": false
   },
   "outputs": [],
   "source": [
    "DF['Age']=DF.apply( lambda row: median_age_DF[row['Title'],row['Pclass']] if np.isnan(row['Age']) else row['Age'],axis=1)"
   ]
  },
  {
   "cell_type": "code",
   "execution_count": 302,
   "metadata": {
    "collapsed": false
   },
   "outputs": [
    {
     "data": {
      "text/plain": [
       "Title    Pclass\n",
       "Arist.   1          61.609850\n",
       "         2          16.943182\n",
       "Master.  1         150.056660\n",
       "         2          27.386745\n",
       "         3          25.443609\n",
       "Miss.    1         130.218958\n",
       "         2          22.571500\n",
       "         3          14.331819\n",
       "Mr.      1          68.260090\n",
       "         2          19.527443\n",
       "         3          11.103904\n",
       "Mrs.     1          97.314448\n",
       "         2          24.023940\n",
       "         3          17.629743\n",
       "Name: Fare, dtype: float64"
      ]
     },
     "execution_count": 302,
     "metadata": {},
     "output_type": "execute_result"
    }
   ],
   "source": [
    "median_fare_DF"
   ]
  },
  {
   "cell_type": "code",
   "execution_count": 297,
   "metadata": {
    "collapsed": false
   },
   "outputs": [
    {
     "data": {
      "text/plain": [
       "Title    Pclass\n",
       "Arist.   1         47.0\n",
       "         2         41.0\n",
       "Master.  1          6.0\n",
       "         2          2.0\n",
       "         3          6.0\n",
       "Miss.    1         30.0\n",
       "         2         20.0\n",
       "         3         18.0\n",
       "Mr.      1         41.5\n",
       "         2         30.0\n",
       "         3         26.0\n",
       "Mrs.     1         45.0\n",
       "         2         30.5\n",
       "         3         31.0\n",
       "Name: Age, dtype: float64"
      ]
     },
     "execution_count": 297,
     "metadata": {},
     "output_type": "execute_result"
    }
   ],
   "source": [
    "median_age_DF"
   ]
  },
  {
   "cell_type": "code",
   "execution_count": 288,
   "metadata": {
    "collapsed": false
   },
   "outputs": [
    {
     "data": {
      "text/plain": [
       "0      22.000000\n",
       "1      38.000000\n",
       "2      26.000000\n",
       "3      35.000000\n",
       "4      35.000000\n",
       "5      28.318910\n",
       "6      54.000000\n",
       "7       2.000000\n",
       "8      27.000000\n",
       "9      14.000000\n",
       "10      4.000000\n",
       "11     58.000000\n",
       "12     20.000000\n",
       "13     39.000000\n",
       "14     14.000000\n",
       "15     55.000000\n",
       "16      2.000000\n",
       "17     32.346715\n",
       "18     31.000000\n",
       "19     32.326531\n",
       "20     35.000000\n",
       "21     34.000000\n",
       "22     15.000000\n",
       "23     28.000000\n",
       "24      8.000000\n",
       "25     38.000000\n",
       "26     28.318910\n",
       "27     19.000000\n",
       "28     17.360874\n",
       "29     28.318910\n",
       "         ...    \n",
       "388    21.000000\n",
       "389     6.000000\n",
       "390    23.000000\n",
       "391    51.000000\n",
       "392    13.000000\n",
       "393    47.000000\n",
       "394    29.000000\n",
       "395    18.000000\n",
       "396    24.000000\n",
       "397    48.000000\n",
       "398    22.000000\n",
       "399    31.000000\n",
       "400    30.000000\n",
       "401    38.000000\n",
       "402    22.000000\n",
       "403    17.000000\n",
       "404    43.000000\n",
       "405    20.000000\n",
       "406    23.000000\n",
       "407    50.000000\n",
       "408    17.360874\n",
       "409     3.000000\n",
       "410    17.360874\n",
       "411    37.000000\n",
       "412    28.000000\n",
       "413    28.318910\n",
       "414    39.000000\n",
       "415    38.500000\n",
       "416    28.318910\n",
       "417     6.090000\n",
       "Name: Age, Length: 1309, dtype: float64"
      ]
     },
     "execution_count": 288,
     "metadata": {},
     "output_type": "execute_result"
    }
   ],
   "source": [
    "DF['Age']"
   ]
  },
  {
   "cell_type": "code",
   "execution_count": null,
   "metadata": {
    "collapsed": true
   },
   "outputs": [],
   "source": []
  }
 ],
 "metadata": {
  "anaconda-cloud": {},
  "kernelspec": {
   "display_name": "Python [default]",
   "language": "python",
   "name": "python3"
  },
  "language_info": {
   "codemirror_mode": {
    "name": "ipython",
    "version": 3
   },
   "file_extension": ".py",
   "mimetype": "text/x-python",
   "name": "python",
   "nbconvert_exporter": "python",
   "pygments_lexer": "ipython3",
   "version": "3.5.2"
  }
 },
 "nbformat": 4,
 "nbformat_minor": 2
}
