{
 "cells": [
  {
   "cell_type": "code",
   "execution_count": 38,
   "metadata": {
    "collapsed": true
   },
   "outputs": [],
   "source": [
    "# Loading data\n",
    "\n",
    "import numpy as np\n",
    "import pandas as pd\n",
    "import re\n",
    "import matplotlib.pyplot as plt\n",
    "%matplotlib inline\n",
    "train = pd.read_csv('input/train.csv')\n",
    "test = pd.read_csv('input/test.csv')\n",
    "DF=pd.concat([train,test])"
   ]
  },
  {
   "cell_type": "code",
   "execution_count": 39,
   "metadata": {
    "collapsed": false,
    "scrolled": true
   },
   "outputs": [],
   "source": [
    "# Decoding names\n",
    "def decodeTitle(name):\n",
    "    signif_titles=['Mr.','Miss.','Mrs.','Master.'] \n",
    "    # cut exactly title from column Name\n",
    "    title=name[name.find(',')+2:name.find('.')+1]\n",
    "    if title in signif_titles:  return(title)\n",
    "    else: return('Arist.')\n",
    "    \n",
    "DF['Title']=DF['Name'].apply(decodeTitle)"
   ]
  },
  {
   "cell_type": "code",
   "execution_count": 40,
   "metadata": {
    "collapsed": false
   },
   "outputs": [
    {
     "name": "stderr",
     "output_type": "stream",
     "text": [
      "C:\\Users\\user\\Anaconda3\\lib\\site-packages\\numpy\\core\\fromnumeric.py:2909: RuntimeWarning: Mean of empty slice.\n",
      "  out=out, **kwargs)\n"
     ]
    }
   ],
   "source": [
    "# Decodng cabins\n",
    "def number(string):\n",
    "    if pd.notnull(string):\n",
    "        numbers=[int(i) for i in re.findall('(\\d+)',string)]\n",
    "        return(np.mean(numbers))\n",
    "def symbol(string):\n",
    "    if pd.notnull(string):\n",
    "        return(True)\n",
    "    else: return(False)\n",
    "\n",
    "DF['CabinSymbol'] = DF.Cabin.apply(symbol)\n",
    "DF['CabinNumber'] = DF.Cabin.apply(number)"
   ]
  },
  {
   "cell_type": "code",
   "execution_count": 41,
   "metadata": {
    "collapsed": true
   },
   "outputs": [],
   "source": [
    "Ages, Fares=[0],[0]\n",
    "for i in [1,2,3]:\n",
    "    Ages.append(DF[DF.Pclass==i]['Age'].mean())\n",
    "    Fares.append(DF[DF.Pclass==i]['Fare'].mean())\n",
    "def funca(row):\n",
    "    if row[0]>0: \n",
    "        age=row[0]\n",
    "    else: \n",
    "        age=Ages[row[7]]\n",
    "    return(age)\n",
    "def funcb(row):\n",
    "    if row[3]>0: \n",
    "        fare=row[3]\n",
    "    else: \n",
    "        fare=Fares[row[7]]\n",
    "    return(fare)\n",
    "                 \n",
    "DF['Age']=DF.apply(funca,axis=1)\n",
    "DF['Fare']=DF.apply(funcb,axis=1)"
   ]
  },
  {
   "cell_type": "code",
   "execution_count": 42,
   "metadata": {
    "collapsed": true
   },
   "outputs": [],
   "source": [
    "DF['Title']=DF['Title'].astype('category').cat.codes\n",
    "DF['CabinSymbol']=DF['CabinSymbol'].astype('category').cat.codes\n",
    "DF['Sex']=DF['Sex'].astype('category').cat.codes"
   ]
  },
  {
   "cell_type": "code",
   "execution_count": 43,
   "metadata": {
    "collapsed": true
   },
   "outputs": [],
   "source": [
    "from sklearn.utils import shuffle\n",
    "DF = shuffle(DF, random_state = 187)"
   ]
  },
  {
   "cell_type": "code",
   "execution_count": 58,
   "metadata": {
    "collapsed": false
   },
   "outputs": [
    {
     "name": "stdout",
     "output_type": "stream",
     "text": [
      "Random Forest Best Result 0.8372615039281706\n",
      "Best Parameters {'max_features': 0.6, 'n_estimators': 10, 'max_depth': 10}\n"
     ]
    }
   ],
   "source": [
    "DF_train=DF[DF.Survived.notnull()]\n",
    "DF_test=DF[DF.Survived.notnull()==False]\n",
    "from sklearn.grid_search import GridSearchCV\n",
    "from sklearn.ensemble import RandomForestClassifier\n",
    "\n",
    "optimizer = GridSearchCV(RandomForestClassifier(), \\\n",
    "                         {'max_features' : [0.4, 0.6, 0.8, 1.0], \n",
    "                          'max_depth' : [5, 10, 15, 25, 35, 45, 55, 65], \n",
    "                          'n_estimators' : [1, 5, 10, 15, 30, 50, 70, 90, 100]},\\\n",
    "                         cv = 15, \\\n",
    "                         n_jobs=-1)\n",
    "optimizer.fit(DF_train[['Age','Fare','SibSp','Parch','Pclass','Title','CabinSymbol','Sex']], DF_train['Survived'])\n",
    "print('Random Forest Best Result', optimizer.best_score_)\n",
    "print('Best Parameters', optimizer.best_params_)"
   ]
  },
  {
   "cell_type": "code",
   "execution_count": 59,
   "metadata": {
    "collapsed": true
   },
   "outputs": [],
   "source": [
    "def writeAnswer(filename, optimizer):\n",
    "    prediction = optimizer.predict(np.hstack([DF_test[['Age','Fare','SibSp','Parch','Pclass','Title','CabinSymbol','Sex']]]))\n",
    "    submission = pd.DataFrame({\n",
    "            \"PassengerId\": test[\"PassengerId\"],\n",
    "            \"Survived\": prediction\n",
    "        })\n",
    "    submission.Survived=submission.Survived.astype('int64',copy=False)\n",
    "    submission.to_csv(filename, index=False)\n",
    "    \n",
    "writeAnswer('RandomForestClassifier.csv', optimizer)"
   ]
  },
  {
   "cell_type": "code",
   "execution_count": 48,
   "metadata": {
    "collapsed": false
   },
   "outputs": [
    {
     "data": {
      "text/plain": [
       "891"
      ]
     },
     "execution_count": 48,
     "metadata": {},
     "output_type": "execute_result"
    }
   ],
   "source": [
    "DF_train=DF[DF.Survived.notnull()].head(600)\n"
   ]
  },
  {
   "cell_type": "code",
   "execution_count": 53,
   "metadata": {
    "collapsed": false
   },
   "outputs": [],
   "source": [
    "DF_train=DF[DF.Survived.notnull()].tail(290)\n",
    "prediction = optimizer.predict(np.hstack([DF_train[['Age','Fare','SibSp','Parch','Pclass','Title','CabinSymbol','Sex']]]))\n",
    "submission = pd.DataFrame({\n",
    "        \"PassengerId\": DF_train[\"Survived\"],\n",
    "        \"Survived_2\": prediction\n",
    "        })\n"
   ]
  },
  {
   "cell_type": "code",
   "execution_count": 56,
   "metadata": {
    "collapsed": false
   },
   "outputs": [
    {
     "data": {
      "text/html": [
       "<div>\n",
       "<style>\n",
       "    .dataframe thead tr:only-child th {\n",
       "        text-align: right;\n",
       "    }\n",
       "\n",
       "    .dataframe thead th {\n",
       "        text-align: left;\n",
       "    }\n",
       "\n",
       "    .dataframe tbody tr th {\n",
       "        vertical-align: top;\n",
       "    }\n",
       "</style>\n",
       "<table border=\"1\" class=\"dataframe\">\n",
       "  <thead>\n",
       "    <tr style=\"text-align: right;\">\n",
       "      <th>Survived_2</th>\n",
       "      <th>0.0</th>\n",
       "      <th>1.0</th>\n",
       "    </tr>\n",
       "    <tr>\n",
       "      <th>PassengerId</th>\n",
       "      <th></th>\n",
       "      <th></th>\n",
       "    </tr>\n",
       "  </thead>\n",
       "  <tbody>\n",
       "    <tr>\n",
       "      <th>0.0</th>\n",
       "      <td>158</td>\n",
       "      <td>19</td>\n",
       "    </tr>\n",
       "    <tr>\n",
       "      <th>1.0</th>\n",
       "      <td>30</td>\n",
       "      <td>83</td>\n",
       "    </tr>\n",
       "  </tbody>\n",
       "</table>\n",
       "</div>"
      ],
      "text/plain": [
       "Survived_2   0.0  1.0\n",
       "PassengerId          \n",
       "0.0          158   19\n",
       "1.0           30   83"
      ]
     },
     "execution_count": 56,
     "metadata": {},
     "output_type": "execute_result"
    }
   ],
   "source": [
    "pd.crosstab(submission.PassengerId,submission.Survived_2)"
   ]
  },
  {
   "cell_type": "code",
   "execution_count": 57,
   "metadata": {
    "collapsed": false
   },
   "outputs": [
    {
     "data": {
      "text/plain": [
       "0.8310344827586207"
      ]
     },
     "execution_count": 57,
     "metadata": {},
     "output_type": "execute_result"
    }
   ],
   "source": [
    "(290-49)/290"
   ]
  },
  {
   "cell_type": "code",
   "execution_count": null,
   "metadata": {
    "collapsed": true
   },
   "outputs": [],
   "source": []
  }
 ],
 "metadata": {
  "anaconda-cloud": {},
  "kernelspec": {
   "display_name": "Python [default]",
   "language": "python",
   "name": "python3"
  },
  "language_info": {
   "codemirror_mode": {
    "name": "ipython",
    "version": 3
   },
   "file_extension": ".py",
   "mimetype": "text/x-python",
   "name": "python",
   "nbconvert_exporter": "python",
   "pygments_lexer": "ipython3",
   "version": "3.5.2"
  }
 },
 "nbformat": 4,
 "nbformat_minor": 2
}
