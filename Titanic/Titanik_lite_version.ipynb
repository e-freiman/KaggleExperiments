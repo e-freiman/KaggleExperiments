{
 "cells": [
  {
   "cell_type": "code",
   "execution_count": 972,
   "metadata": {
    "collapsed": false
   },
   "outputs": [],
   "source": [
    "# Loading data\n",
    "\n",
    "import numpy as np\n",
    "import pandas as pd\n",
    "import re\n",
    "import matplotlib.pyplot as plt\n",
    "%matplotlib inline\n",
    "train = pd.read_csv('input/train.csv')\n",
    "test = pd.read_csv('input/test.csv')\n",
    "DF=pd.concat([train,test])\n",
    "pd.options.display.max_columns=30"
   ]
  },
  {
   "cell_type": "code",
   "execution_count": 973,
   "metadata": {
    "collapsed": false,
    "scrolled": true
   },
   "outputs": [],
   "source": [
    "# Decoding names\n",
    "def decodeTitle(name):\n",
    "    signif_titles=['Mr.','Miss.','Mrs.','Master.'] \n",
    "    # cut exactly title from column Name\n",
    "    title=name[name.find(',')+2:name.find('.')+1]\n",
    "    if title in signif_titles:  return(title)\n",
    "    else: return('Arist.')\n",
    "    \n",
    "DF['Title']=DF['Name'].apply(decodeTitle)\n",
    "DF.loc[88,'Title']='Miss'\n",
    "DF.loc[550,'Name']='Thayer, Mr. NOjo Borland Jr'"
   ]
  },
  {
   "cell_type": "code",
   "execution_count": 974,
   "metadata": {
    "collapsed": false
   },
   "outputs": [
    {
     "name": "stderr",
     "output_type": "stream",
     "text": [
      "C:\\Users\\user\\Anaconda3\\lib\\site-packages\\numpy\\core\\fromnumeric.py:2909: RuntimeWarning: Mean of empty slice.\n",
      "  out=out, **kwargs)\n"
     ]
    }
   ],
   "source": [
    "# Decodng cabins\n",
    "def number(string):\n",
    "    if pd.notnull(string):\n",
    "        numbers=[int(i) for i in re.findall('(\\d+)',string)]\n",
    "        return(np.mean(numbers))\n",
    "def symbol(string):\n",
    "    if pd.notnull(string):\n",
    "        return(True)\n",
    "    else: return(False)\n",
    "\n",
    "DF['CabinSymbol'] = DF.Cabin.apply(symbol)\n",
    "DF['CabinNumber'] = DF.Cabin.apply(number)"
   ]
  },
  {
   "cell_type": "code",
   "execution_count": 975,
   "metadata": {
    "collapsed": false
   },
   "outputs": [],
   "source": [
    "Ages, Fares=[0],[0]\n",
    "for i in [1,2,3]:\n",
    "    Ages.append(int(DF[DF.Pclass==i]['Age'].mean()))\n",
    "    Fares.append(int(DF[DF.Pclass==i]['Fare'].mean()))\n",
    "def funca(row):\n",
    "    if row[0]>0: \n",
    "        age=row[0]\n",
    "    else: \n",
    "        age=Ages[row[7]]\n",
    "    return(age)\n",
    "def funcb(row):\n",
    "    if row[3]>0: \n",
    "        fare=row[3]\n",
    "    else: \n",
    "        fare=Fares[row[7]]\n",
    "    return(fare)\n",
    "                 \n",
    "DF['Age']=DF.apply(funca,axis=1)\n",
    "DF['Fare']=DF.apply(funcb,axis=1)"
   ]
  },
  {
   "cell_type": "code",
   "execution_count": 976,
   "metadata": {
    "collapsed": false,
    "scrolled": true
   },
   "outputs": [],
   "source": [
    "def name(name):\n",
    "        name=name[name.find('. ')+2:]\n",
    "        if name.find(' ')==-1:\n",
    "            return(name)\n",
    "        else: return(name[:name.find(' ')])\n",
    "def virgin_surname(name):\n",
    "    if name.find('(')!=-1:\n",
    "        return(name[name.rfind(' '):name.find(')')])\n",
    "def husb_or_wife(row):\n",
    "    if (row[8]=='female') and (row[4].find('Mrs.')!=-1):\n",
    "        return(row[17])\n",
    "DF['Surname']=DF.Name.apply(lambda x: x[:x.find(',')])\n",
    "DF['Virg_surname']=DF.Name.apply(virgin_surname)\n",
    "DF['First_name']=DF.Name.apply(name)\n",
    "DF['Husb_name']=DF.apply(husb_or_wife,axis=1)\n",
    "Family=pd.DataFrame(DF.Surname.value_counts())"
   ]
  },
  {
   "cell_type": "code",
   "execution_count": 1052,
   "metadata": {
    "collapsed": false
   },
   "outputs": [
    {
     "name": "stderr",
     "output_type": "stream",
     "text": [
      "C:\\Users\\user\\Anaconda3\\lib\\site-packages\\ipykernel\\__main__.py:46: RuntimeWarning: Mean of empty slice\n"
     ]
    }
   ],
   "source": [
    "# DF['wife']=DF.apply(find_my_wife, axis=1)\n",
    "# DF['how_is_wife']=DF.apply(how_is_wife, axis=1)\n",
    "# DF['childs']=DF.apply(find_my_childs, axis=1)\n",
    "# DF['bro']=DF.apply(find_my_bro, axis=1)\n",
    "DF['how_are_childs']=DF.apply(how_are_childs, axis=1)    \n",
    "# DF['how_are_bro']=DF.apply(how_are_bro,axis=1)\n",
    "# DF['parents']=DF.apply(find_my_parents, axis=1)\n",
    "# DF['how_are_parents']=DF.apply(how_are_parents, axis=1) \n",
    "# DF['husband']=DF.apply(find_my_husb, axis=1)\n",
    "# DF['how_is_my_husb']=DF.apply(how_is_husb, axis=1)"
   ]
  },
  {
   "cell_type": "code",
   "execution_count": 954,
   "metadata": {
    "collapsed": true
   },
   "outputs": [],
   "source": [
    "DF['Title']=DF['Title'].astype('category').cat.codes\n",
    "DF['CabinSymbol']=DF['CabinSymbol'].astype('category').cat.codes\n",
    "DF['Sex']=DF['Sex'].astype('category').cat.codes\n",
    "DF['Embarked']=DF['Embarked'].astype('category').cat.codes"
   ]
  },
  {
   "cell_type": "code",
   "execution_count": 904,
   "metadata": {
    "collapsed": false
   },
   "outputs": [],
   "source": [
    "from sklearn.utils import shuffle\n",
    "DF = shuffle(DF, random_state = 187)"
   ]
  },
  {
   "cell_type": "code",
   "execution_count": 908,
   "metadata": {
    "collapsed": false
   },
   "outputs": [
    {
     "name": "stderr",
     "output_type": "stream",
     "text": [
      "C:\\Users\\user\\Anaconda3\\lib\\site-packages\\pandas\\core\\frame.py:2754: SettingWithCopyWarning: \n",
      "A value is trying to be set on a copy of a slice from a DataFrame\n",
      "\n",
      "See the caveats in the documentation: http://pandas.pydata.org/pandas-docs/stable/indexing.html#indexing-view-versus-copy\n",
      "  downcast=downcast, **kwargs)\n"
     ]
    },
    {
     "name": "stdout",
     "output_type": "stream",
     "text": [
      "Random Forest Best Result 0.8428731762065096\n",
      "Best Parameters {'max_depth': 5, 'n_estimators': 30, 'max_features': 0.6}\n"
     ]
    }
   ],
   "source": [
    "DF_train=DF[DF.Survived.notnull()]\n",
    "DF_test=DF[DF.Survived.notnull()==False]\n",
    "X_train=DF_train[['How_is_my_wife','Pclass','Sex','Age','Cabin_Symbol','nearest','']]\n",
    "X_train.fillna(-1, inplace=True)\n",
    "Y_train=DF_train['Survived']\n",
    "from sklearn.grid_search import GridSearchCV\n",
    "from sklearn.ensemble import RandomForestClassifier\n",
    "from sklearn.model_selection import cross_val_score\n",
    "optimizer = GridSearchCV(RandomForestClassifier(), \\\n",
    "                         {'max_features' : [0.4, 0.6, 0.8, 1.0], \n",
    "                          'max_depth' : [5, 10, 15, 25, 35, 45, 55, 65], \n",
    "                          'n_estimators' : [1, 5, 10, 15, 30, 50, 70, 90, 100]},\\\n",
    "                         cv = 15, \\\n",
    "                         n_jobs=-1)\n",
    "optimizer.fit(X_train,Y_train)\n",
    "# print(cross_val_score(optimizer,DF_train[['How_is_my_siblings','Pclass','Title']], DF_train['Survived']))\n",
    "print('Random Forest Best Result', optimizer.best_score_)\n",
    "print('Best Parameters', optimizer.best_params_)"
   ]
  },
  {
   "cell_type": "code",
   "execution_count": 910,
   "metadata": {
    "collapsed": false
   },
   "outputs": [
    {
     "name": "stderr",
     "output_type": "stream",
     "text": [
      "C:\\Users\\user\\Anaconda3\\lib\\site-packages\\pandas\\core\\frame.py:2754: SettingWithCopyWarning: \n",
      "A value is trying to be set on a copy of a slice from a DataFrame\n",
      "\n",
      "See the caveats in the documentation: http://pandas.pydata.org/pandas-docs/stable/indexing.html#indexing-view-versus-copy\n",
      "  downcast=downcast, **kwargs)\n"
     ]
    }
   ],
   "source": [
    "X_test=DF_test[['How_is_my_wife','how_is_my_husb','how_are_childs','how_are_bro','Pclass','Sex','Title']]\n",
    "X_test.fillna(-1, inplace=True)\n",
    "def writeAnswer(filename, optimizer):\n",
    "    prediction = optimizer.predict(X_test)\n",
    "    submission = pd.DataFrame({\n",
    "            \"PassengerId\": test[\"PassengerId\"],\n",
    "            \"Survived\": prediction\n",
    "        })\n",
    "    submission.Survived=submission.Survived.astype('int64',copy=False)\n",
    "    submission.to_csv(filename, index=False)\n",
    "    \n",
    "writeAnswer('Its_alive.csv', optimizer)"
   ]
  },
  {
   "cell_type": "code",
   "execution_count": 890,
   "metadata": {
    "collapsed": false
   },
   "outputs": [
    {
     "name": "stdout",
     "output_type": "stream",
     "text": [
      "[ 0.43935927  0.50229358  0.49311927]\n"
     ]
    }
   ],
   "source": [
    "DF_train=new[new.Survived.notnull()]\n",
    "# DF_train=DF_train[DF['count']>3]\n",
    "X_train=DF_train[['How_is_my_wife','how_is_my_husb','how_are_childs','how_are_bro']]\n",
    "Y_train=DF_train['Survived']\n",
    "from sklearn.model_selection import cross_val_score\n",
    "from sklearn import metrics\n",
    "from sklearn.linear_model import LogisticRegression\n",
    "model = LogisticRegression()\n",
    "print(cross_val_score(model,X_train, Y_train))\n"
   ]
  },
  {
   "cell_type": "code",
   "execution_count": 1051,
   "metadata": {
    "collapsed": false,
    "scrolled": true
   },
   "outputs": [],
   "source": [
    "## Big pack of setting of relationship between passengers\n",
    "def find_my_wife(row):\n",
    "    if (row[8]=='male') and (row[12]!='Master.') and ('Jr' not in row[4]):\n",
    "        probably_wife=DF[(DF['Surname']==row[15]) & (DF['Husb_name']==row[17]) & (DF['Title']=='Mrs.') & (DF['Title']!='Arist.')]\n",
    "        if len(probably_wife)!=0:\n",
    "            return(int(probably_wife['PassengerId']))\n",
    "        else:return(-999)\n",
    "    else: return(-888)\n",
    "\n",
    "#0 - not survived, 1- survived, 2 - not in a board, 3 - woman or child, 4 - no data\n",
    "def how_is_wife(row):\n",
    "    if row[19]>0:\n",
    "        surv=DF[DF['PassengerId']==row[19]]['Survived']\n",
    "        if pd.notnull(surv.values):\n",
    "            return(surv.values[0])\n",
    "        else: return(4)\n",
    "    elif row[19]>-900: return(3)\n",
    "    else: return(2)\n",
    "\n",
    "\n",
    "def find_my_childs(row):\n",
    "    if row[12] in ['Mrs.','Mr.','Arist.']:\n",
    "        probably_childs=DF[(DF['Surname']==row[15]) & ((DF['Title']=='Master.') | (DF['Title']=='Miss.') | (DF['Title']=='Mr.'))]\n",
    "        probably_childs=probably_childs[(probably_childs['SibSp']==row[5]-1) & (probably_childs['Name']!=row[4])]\n",
    "        probably_childs=probably_childs[(probably_childs['wife'].notnull()==False) | (probably_childs['SibSp']!=1)]\n",
    "        if len(probably_childs)!=0:\n",
    "            return(list(probably_childs['PassengerId']))\n",
    "        else: return([-999,0])\n",
    "    else: return([-888,0])\n",
    "\n",
    "def find_my_bro(row):\n",
    "    if row[12] in ['Master.','Miss.','Mr.']:\n",
    "        probably_childs=DF[(DF['Surname']==row[15]) & ((DF['Title']=='Master.') | (DF['Title']=='Miss.') | (DF['Title']=='Mr.'))]\n",
    "        probably_childs=probably_childs[(probably_childs['Parch']==row[5]) & (probably_childs['SibSp']==row[9]) & (probably_childs['Name']!=row[4])]\n",
    "        probably_childs=probably_childs[probably_childs['PassengerId'].isin(row[21])==False]\n",
    "        if len(probably_childs)!=0:\n",
    "            return(list(probably_childs['PassengerId']))\n",
    "        else: return([])\n",
    "    else: return([])\n",
    "\n",
    "def how_are_childs(row):\n",
    "    if row[21][0]>0:\n",
    "        surv_index,j=[],np.nan\n",
    "        for i in row[21]:\n",
    "            surv_index.append(DF[DF['PassengerId']==i]['Survived'].iloc[0])\n",
    "            j=np.nanmean(surv_index)\n",
    "        if pd.notnull(j):\n",
    "            return(j)\n",
    "        else:return(4)\n",
    "    elif row[21][0]>-900: return(3)\n",
    "    else: return(2)   \n",
    "    \n",
    "    \n",
    "def how_are_bro(row):\n",
    "    surv_index,j=[],np.nan\n",
    "    for i in row[22]:\n",
    "        surv_index.append(DF[DF['PassengerId']==i]['Survived'].iloc[0])\n",
    "        j=np.nanmean(surv_index)\n",
    "    return(j)\n",
    "\n",
    "def find_my_parents(row):\n",
    "    if row[12] in ['Miss.','Master.']:\n",
    "        probably_childs=DF[(DF['Surname']==row[15]) & ((DF['Title']=='Mrs.') | (DF['Title']=='Mr.') | (DF['Title']=='Arist.'))]\n",
    "        probably_childs=probably_childs[(probably_childs['SibSp']==row[5]-1) & (probably_childs['Name']!=row[4])]\n",
    "        if len(probably_childs)!=0:\n",
    "            return(list(probably_childs['PassengerId']))\n",
    "        else: return([])\n",
    "    else: return([])\n",
    "\n",
    "def how_are_parents(row):\n",
    "    surv_index,j=[],np.nan\n",
    "    for i in row[25]:\n",
    "        surv_index.append(DF[DF['PassengerId']==i]['Survived'].iloc[0])\n",
    "        j=np.nanmean(surv_index)\n",
    "    return(j)\n",
    "\n",
    "\n",
    "def find_my_husb(row):\n",
    "    if (row[8]=='female') and (row[12]!='Miss.'):\n",
    "        probably_wife=DF[(DF['Surname']==row[15]) & (DF['Title']!='Master.') & (DF['First_name']==row[17]) & (DF['Name']!=row[4])]\n",
    "        if len(probably_wife)>0:\n",
    "            return(int(probably_wife['PassengerId']))\n",
    "\n",
    "def how_is_husb(row):\n",
    "    if pd.notnull(row[27]):\n",
    "        return(list(DF[DF['PassengerId']==row[27]]['Survived'])[0])"
   ]
  },
  {
   "cell_type": "code",
   "execution_count": 907,
   "metadata": {
    "collapsed": false
   },
   "outputs": [
    {
     "data": {
      "text/plain": [
       "0                 Age\n",
       "1               Cabin\n",
       "2            Embarked\n",
       "3                Fare\n",
       "4                Name\n",
       "5               Parch\n",
       "6         PassengerId\n",
       "7              Pclass\n",
       "8                 Sex\n",
       "9               SibSp\n",
       "10           Survived\n",
       "11             Ticket\n",
       "12              Title\n",
       "13        CabinSymbol\n",
       "14        CabinNumber\n",
       "15            Surname\n",
       "16       Virg_surname\n",
       "17         First_name\n",
       "18          Husb_name\n",
       "19               wife\n",
       "20     How_is_my_wife\n",
       "21             childs\n",
       "22                bro\n",
       "23     how_are_childs\n",
       "24        how_are_bro\n",
       "25            parents\n",
       "26    how_are_parents\n",
       "27            husband\n",
       "28     how_is_my_husb\n",
       "dtype: object"
      ]
     },
     "execution_count": 907,
     "metadata": {},
     "output_type": "execute_result"
    }
   ],
   "source": [
    "pd.Series(DF.columns)"
   ]
  },
  {
   "cell_type": "code",
   "execution_count": 933,
   "metadata": {
    "collapsed": false
   },
   "outputs": [],
   "source": [
    "DF['nearest']=DF['how_are_childs']+DF['how_are_bro']+DF['How_is_my_wife']+300"
   ]
  },
  {
   "cell_type": "code",
   "execution_count": 1048,
   "metadata": {
    "collapsed": false
   },
   "outputs": [
    {
     "name": "stderr",
     "output_type": "stream",
     "text": [
      "C:\\Users\\user\\Anaconda3\\lib\\site-packages\\ipykernel\\__main__.py:2: RuntimeWarning: Mean of empty slice\n",
      "  from ipykernel import kernelapp as app\n"
     ]
    },
    {
     "data": {
      "text/plain": [
       "nan"
      ]
     },
     "execution_count": 1048,
     "metadata": {},
     "output_type": "execute_result"
    }
   ],
   "source": [
    "a=[np.nan,np.nan,np.nan]\n",
    "np.nanmean(a)"
   ]
  },
  {
   "cell_type": "code",
   "execution_count": 1053,
   "metadata": {
    "collapsed": false
   },
   "outputs": [
    {
     "data": {
      "text/html": [
       "<div>\n",
       "<style>\n",
       "    .dataframe thead tr:only-child th {\n",
       "        text-align: right;\n",
       "    }\n",
       "\n",
       "    .dataframe thead th {\n",
       "        text-align: left;\n",
       "    }\n",
       "\n",
       "    .dataframe tbody tr th {\n",
       "        vertical-align: top;\n",
       "    }\n",
       "</style>\n",
       "<table border=\"1\" class=\"dataframe\">\n",
       "  <thead>\n",
       "    <tr style=\"text-align: right;\">\n",
       "      <th>how_are_childs</th>\n",
       "      <th>0.0</th>\n",
       "      <th>0.166666666667</th>\n",
       "      <th>0.333333333333</th>\n",
       "      <th>0.5</th>\n",
       "      <th>0.666666666667</th>\n",
       "      <th>1.0</th>\n",
       "      <th>2.0</th>\n",
       "      <th>3.0</th>\n",
       "      <th>4.0</th>\n",
       "    </tr>\n",
       "    <tr>\n",
       "      <th>Survived</th>\n",
       "      <th></th>\n",
       "      <th></th>\n",
       "      <th></th>\n",
       "      <th></th>\n",
       "      <th></th>\n",
       "      <th></th>\n",
       "      <th></th>\n",
       "      <th></th>\n",
       "      <th></th>\n",
       "    </tr>\n",
       "  </thead>\n",
       "  <tbody>\n",
       "    <tr>\n",
       "      <th>0.0</th>\n",
       "      <td>19</td>\n",
       "      <td>2</td>\n",
       "      <td>1</td>\n",
       "      <td>2</td>\n",
       "      <td>0</td>\n",
       "      <td>9</td>\n",
       "      <td>438</td>\n",
       "      <td>72</td>\n",
       "      <td>6</td>\n",
       "    </tr>\n",
       "    <tr>\n",
       "      <th>1.0</th>\n",
       "      <td>2</td>\n",
       "      <td>0</td>\n",
       "      <td>0</td>\n",
       "      <td>2</td>\n",
       "      <td>1</td>\n",
       "      <td>14</td>\n",
       "      <td>169</td>\n",
       "      <td>150</td>\n",
       "      <td>4</td>\n",
       "    </tr>\n",
       "  </tbody>\n",
       "</table>\n",
       "</div>"
      ],
      "text/plain": [
       "how_are_childs  0.000000  0.166667  0.333333  0.500000  0.666667  1.000000  \\\n",
       "Survived                                                                     \n",
       "0.0                   19         2         1         2         0         9   \n",
       "1.0                    2         0         0         2         1        14   \n",
       "\n",
       "how_are_childs  2.000000  3.000000  4.000000  \n",
       "Survived                                      \n",
       "0.0                  438        72         6  \n",
       "1.0                  169       150         4  "
      ]
     },
     "execution_count": 1053,
     "metadata": {},
     "output_type": "execute_result"
    }
   ],
   "source": [
    "pd.crosstab(DF.Survived,DF.how_are_childs)"
   ]
  },
  {
   "cell_type": "code",
   "execution_count": 998,
   "metadata": {
    "collapsed": false
   },
   "outputs": [
    {
     "data": {
      "text/plain": [
       "1.0"
      ]
     },
     "execution_count": 998,
     "metadata": {},
     "output_type": "execute_result"
    }
   ],
   "source": [
    "DF[DF['PassengerId']==408]['Survived'].values[0]"
   ]
  },
  {
   "cell_type": "code",
   "execution_count": 1036,
   "metadata": {
    "collapsed": false
   },
   "outputs": [
    {
     "data": {
      "text/plain": [
       "[-99, 0]"
      ]
     },
     "execution_count": 1036,
     "metadata": {},
     "output_type": "execute_result"
    }
   ],
   "source": [
    "[-99,0]"
   ]
  },
  {
   "cell_type": "code",
   "execution_count": null,
   "metadata": {
    "collapsed": true
   },
   "outputs": [],
   "source": []
  }
 ],
 "metadata": {
  "anaconda-cloud": {},
  "kernelspec": {
   "display_name": "Python [default]",
   "language": "python",
   "name": "python3"
  },
  "language_info": {
   "codemirror_mode": {
    "name": "ipython",
    "version": 3
   },
   "file_extension": ".py",
   "mimetype": "text/x-python",
   "name": "python",
   "nbconvert_exporter": "python",
   "pygments_lexer": "ipython3",
   "version": "3.5.2"
  }
 },
 "nbformat": 4,
 "nbformat_minor": 2
}
