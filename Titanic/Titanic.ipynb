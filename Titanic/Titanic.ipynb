{
 "cells": [
  {
   "cell_type": "code",
   "execution_count": null,
   "metadata": {
    "collapsed": false
   },
   "outputs": [],
   "source": [
    "# Loading data\n",
    "\n",
    "import numpy as np\n",
    "import pandas as pd\n",
    "\n",
    "train = pd.read_csv('input/train.csv')\n",
    "test = pd.read_csv('input/test.csv')"
   ]
  },
  {
   "cell_type": "code",
   "execution_count": null,
   "metadata": {
    "collapsed": false,
    "scrolled": true
   },
   "outputs": [],
   "source": [
    "# Exploring data\n",
    "\n",
    "y_train = train.Survived\n",
    "\n",
    "X_train = train.drop(['Survived','PassengerId','Ticket', 'Parch'], 1)\n",
    "X_test = test.drop(['PassengerId','Ticket', 'Parch'], 1)\n",
    "\n",
    "#Types of data\n",
    "print(X_train.dtypes,'\\n')\n",
    "\n",
    "#Procentage of survived people in train dataset\n",
    "print('Survived',y_train.mean(), '\\n')\n",
    "\n",
    "print('X_train.shape = ', X_train.shape)"
   ]
  },
  {
   "cell_type": "code",
   "execution_count": null,
   "metadata": {
    "collapsed": false
   },
   "outputs": [],
   "source": [
    "# Decoding names\n",
    "\n",
    "def decodeTitle(row):\n",
    "    signif_titles=['Mr.','Miss.','Mrs.','Master.'] \n",
    "    change_sex={'female':'Miss.','male':'Mr.'}\n",
    "    # cut exactly title from column Name\n",
    "    title=row[1][row[1].find(',')+2:row[1].find('.')+1]\n",
    "    \n",
    "    # return title if it is in set of significant titles\n",
    "    if title in signif_titles:\n",
    "        return(title)\n",
    "    \n",
    "    # return sex if title is insignificant\n",
    "    else: return(change_sex[row[2]])\n",
    "\n",
    "X_train['Title']=X_train['Name'].apply(decodeTitle)\n",
    "X_test['Title']=X_test['Name'].apply(decodeTitle)"
   ]
  },
  {
   "cell_type": "code",
   "execution_count": null,
   "metadata": {
    "collapsed": false
   },
   "outputs": [],
   "source": [
    "import re\n",
    "# Decodng cabins\n",
    "def number(string):\n",
    "    if pd.notnull(string):\n",
    "        numbers=[int(i) for i in re.findall('(\\d+)',string)]\n",
    "        return(np.mean(numbers))\n",
    "\n",
    "X_train['CabinSymbol'] = X_train.Cabin.str[0].fillna('X')\n",
    "X_train['CabinNumber'] = X_train.Cabin.apply(number)\n",
    "X_test['CabinSymbol'] = X_test.Cabin.str[0].fillna('X')\n",
    "X_test['CabinNumber'] = X_test.Cabin.apply(number)\n",
    "\n",
    "X_train.drop(['Name', 'Cabin'], 1, inplace=True)\n",
    "X_test.drop(['Name', 'Cabin'], 1, inplace=True)"
   ]
  },
  {
   "cell_type": "code",
   "execution_count": null,
   "metadata": {
    "collapsed": false,
    "scrolled": false
   },
   "outputs": [],
   "source": [
    "# Transforming data\n",
    "\n",
    "numeric_cols = ['Age', 'Fare', 'CabinNumber']\n",
    "categorial_cols = list(set(X_train.columns.values.tolist()) - set(numeric_cols))\n",
    "X_num = X_train.drop(categorial_cols, 1)\n",
    "X_cat = X_train.drop(numeric_cols, 1)\n",
    "X_test_num = X_test.drop(categorial_cols, 1)\n",
    "X_test_cat = X_test.drop(numeric_cols, 1)\n",
    "\n",
    "print('X_cat.shape', X_cat.shape)\n",
    "print('X_num.shape', X_num.shape)\n",
    "\n",
    "print('X_cat.isnull =', X_cat.isnull().values.any())\n",
    "print('X_num.isnull =', X_num.isnull().values.any())\n",
    "print('X_test_cat.isnull =', X_test_cat.isnull().values.any())\n",
    "print('X_test_num.isnull =', X_test_num.isnull().values.any())"
   ]
  },
  {
   "cell_type": "code",
   "execution_count": null,
   "metadata": {
    "collapsed": false
   },
   "outputs": [],
   "source": [
    "# Getting rid of missign values in numeric columns\n",
    "\n",
    "missingAge = np.mean(X_num['Age'])\n",
    "missingFare = np.mean(X_num['Fare'])\n",
    "missingCabinNumber = np.mean(X_num['CabinNumber'])\n",
    "\n",
    "X_num['Age'] = X_num['Age'].fillna(missingAge)\n",
    "X_num['Fare'] = X_num['Fare'].fillna(missingFare)\n",
    "X_num['CabinNumber'] = X_num['CabinNumber'].fillna(missingCabinNumber)\n",
    "\n",
    "X_test_num['Age'] = X_test_num['Age'].fillna(missingAge)\n",
    "X_test_num['Fare'] = X_test_num['Fare'].fillna(missingFare)\n",
    "X_test_num['CabinNumber'] = X_test_num['CabinNumber'].fillna(missingCabinNumber)\n",
    "\n",
    "print('Missing Age Value =', missingAge)\n",
    "print('Missing Fare Value =', missingFare)\n",
    "print('Missing Cabin Number Value =', missingCabinNumber)\n",
    "\n",
    "# Getting rid of missing values in categorial data\n",
    "X_cat = X_cat.fillna('NA')\n",
    "\n",
    "print('X_num.isnull =', X_num.isnull().values.any())\n",
    "print('X_cat.isnull =', X_cat.isnull().values.any())\n",
    "print('X_test_cat.isnull =', X_test_cat.isnull().values.any())\n",
    "print('X_test_num.isnull =', X_test_num.isnull().values.any())"
   ]
  },
  {
   "cell_type": "code",
   "execution_count": null,
   "metadata": {
    "collapsed": false
   },
   "outputs": [],
   "source": [
    "# Reshaping categroial data according to features selection (look at L1_FeaturesSelection.ipynb)\n",
    "\n",
    "def cabinSymbolValue(s):\n",
    "    symbols = {'X':1, 'C':2, 'D':3, 'E':4}\n",
    "    return symbols.get(s, 0)\n",
    "    \n",
    "X_test_cat['Married'] = np.array([X_test_cat['Title']=='Mrs.'][0])\n",
    "X_test_cat['EmbarkedC'] = np.array([X_test_cat['Embarked']=='C'][0])        \n",
    "X_test_cat['CabinSymbolReduced'] = [cabinSymbolValue(X_test_cat['CabinSymbol'][i]) for i in range(X_test_cat.shape[0])]\n",
    "X_test_cat = X_test_cat.drop(['CabinSymbol', 'Embarked', 'Title'], 1)\n",
    "\n",
    "X_cat['Married'] = np.array([X_cat['Title']=='Mrs.'][0])\n",
    "X_cat['EmbarkedC'] = np.array([X_cat['Embarked']=='C'][0])        \n",
    "X_cat['CabinSymbolReduced'] = [cabinSymbolValue(X_cat['CabinSymbol'][i]) for i in range(X_cat.shape[0])]\n",
    "X_cat = X_cat.drop(['CabinSymbol', 'Embarked', 'Title'], 1)\n",
    "\n",
    "X_cat.head(10)"
   ]
  },
  {
   "cell_type": "code",
   "execution_count": null,
   "metadata": {
    "collapsed": false
   },
   "outputs": [],
   "source": [
    "# Reshaping numerical data (according to experiment and common sense)\n",
    "\n",
    "X_num = X_num.drop(['CabinNumber'], 1)\n",
    "X_test_num = X_test_num.drop(['CabinNumber'], 1)\n",
    "\n",
    "X_num.head()"
   ]
  },
  {
   "cell_type": "code",
   "execution_count": null,
   "metadata": {
    "collapsed": false
   },
   "outputs": [],
   "source": [
    "# Encoding categorial data\n",
    "\n",
    "from sklearn.feature_extraction import DictVectorizer\n",
    "\n",
    "encoder = DictVectorizer(sparse = False)\n",
    "X_cat_oh = encoder.fit_transform(X_cat.T.to_dict().values())\n",
    "X_test_cat_oh = encoder.transform(X_test_cat.T.to_dict().values())\n",
    "\n",
    "print (X_cat_oh.shape, '\\n')\n",
    "print (X_cat_oh, '\\n')"
   ]
  },
  {
   "cell_type": "code",
   "execution_count": null,
   "metadata": {
    "collapsed": false
   },
   "outputs": [],
   "source": [
    "#Shuffling data\n",
    "from sklearn.utils import shuffle\n",
    "X_shuffled, y_shuffled = shuffle(np.hstack([X_num, X_cat_oh]), y_train, random_state = 8921)\n",
    "print('X_shuffled.shape =', X_shuffled.shape)"
   ]
  },
  {
   "cell_type": "code",
   "execution_count": null,
   "metadata": {
    "collapsed": false
   },
   "outputs": [],
   "source": [
    "# Random Forset Classifier parameters search\n",
    "from sklearn.ensemble import RandomForestClassifier"
   ]
  },
  {
   "cell_type": "code",
   "execution_count": null,
   "metadata": {
    "collapsed": false
   },
   "outputs": [],
   "source": [
    "from sklearn.grid_search import GridSearchCV\n",
    "from sklearn.ensemble import RandomForestClassifier\n",
    "\n",
    "optimizer = GridSearchCV(RandomForestClassifier(), \\\n",
    "                         {'max_features' : [0.4, 0.6, 0.8, 1.0], \n",
    "                          'max_depth' : [5, 10, 15, 25, 35, 45, 55, 65], \n",
    "                          'n_estimators' : [1, 5, 10, 15, 30, 50, 70, 90, 100]},\\\n",
    "                         cv = 15, \\\n",
    "                         n_jobs=-1)\n",
    "optimizer.fit(X_shuffled, y_shuffled)\n",
    "print('Random Forest Best Result', optimizer.best_score_)\n",
    "print('Best Parameters', optimizer.best_params_)"
   ]
  },
  {
   "cell_type": "code",
   "execution_count": null,
   "metadata": {
    "collapsed": false
   },
   "outputs": [],
   "source": [
    "def writeAnswer(filename, optimizer):\n",
    "    prediction = optimizer.predict(np.hstack([X_test_num, X_test_cat_oh]))\n",
    "    submission = pd.DataFrame({\n",
    "            \"PassengerId\": test[\"PassengerId\"],\n",
    "            \"Survived\": prediction\n",
    "        })\n",
    "    submission.to_csv(filename, index=False)\n",
    "    \n",
    "writeAnswer('RandomForestClassifier.csv', optimizer)"
   ]
  },
  {
   "cell_type": "code",
   "execution_count": null,
   "metadata": {
    "collapsed": true
   },
   "outputs": [],
   "source": []
  }
 ],
 "metadata": {
  "anaconda-cloud": {},
  "kernelspec": {
   "display_name": "Python [conda root]",
   "language": "python",
   "name": "conda-root-py"
  },
  "language_info": {
   "codemirror_mode": {
    "name": "ipython",
    "version": 3
   },
   "file_extension": ".py",
   "mimetype": "text/x-python",
   "name": "python",
   "nbconvert_exporter": "python",
   "pygments_lexer": "ipython3",
   "version": "3.5.2"
  }
 },
 "nbformat": 4,
 "nbformat_minor": 0
}
