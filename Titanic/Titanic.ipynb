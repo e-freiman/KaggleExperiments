{
 "cells": [
  {
   "cell_type": "code",
   "execution_count": 1,
   "metadata": {
    "collapsed": false
   },
   "outputs": [],
   "source": [
    "# Loading data\n",
    "\n",
    "import numpy as np\n",
    "import pandas as pd\n",
    "\n",
    "train = pd.read_csv('input/train.csv')\n",
    "test = pd.read_csv('input/test.csv')"
   ]
  },
  {
   "cell_type": "code",
   "execution_count": 2,
   "metadata": {
    "collapsed": false,
    "scrolled": true
   },
   "outputs": [
    {
     "name": "stdout",
     "output_type": "stream",
     "text": [
      "Pclass        int64\n",
      "Name         object\n",
      "Sex          object\n",
      "Age         float64\n",
      "SibSp         int64\n",
      "Fare        float64\n",
      "Cabin        object\n",
      "Embarked     object\n",
      "dtype: object \n",
      "\n",
      "Survived 0.3838383838383838 \n",
      "\n",
      "X_train.shape =  (891, 8)\n"
     ]
    }
   ],
   "source": [
    "# Exploring data\n",
    "\n",
    "y_train = train.Survived\n",
    "\n",
    "X_train = train.drop(['Survived','PassengerId','Ticket', 'Parch'], 1)\n",
    "X_test = test.drop(['PassengerId','Ticket', 'Parch'], 1)\n",
    "\n",
    "#Types of data\n",
    "print(X_train.dtypes,'\\n')\n",
    "\n",
    "#Procentage of survived people in train dataset\n",
    "print('Survived', float(sum(y_train))/float(len(y_train)), '\\n')\n",
    "\n",
    "print('X_train.shape = ', X_train.shape)"
   ]
  },
  {
   "cell_type": "code",
   "execution_count": 3,
   "metadata": {
    "collapsed": false
   },
   "outputs": [],
   "source": [
    "# Decoding names\n",
    "\n",
    "def decodeTitle(name, sex):    \n",
    "    if name.find('Mr.') != -1:\n",
    "        return 'Mr.'\n",
    "    if name.find('Mrs.') != -1:\n",
    "        return 'Mrs.'\n",
    "    if name.find('Miss.') != -1:\n",
    "        return 'Miss.'\n",
    "    if sex == 'male':\n",
    "        return 'Mr.'\n",
    "    if sex == 'female':\n",
    "        return 'Miss.'    \n",
    "    #in test data 125 Mrs., 182 Miss, 517 Mr.    \n",
    "\n",
    "title_train = []\n",
    "title_test = []\n",
    "\n",
    "for i in range(X_train.shape[0]):    \n",
    "    title_train.append(decodeTitle(X_train.Name[i], X_train.Sex[i]))\n",
    "for i in range(X_test.shape[0]):    \n",
    "    title_test.append(decodeTitle(X_test.Name[i], X_test.Sex[i]))"
   ]
  },
  {
   "cell_type": "code",
   "execution_count": 4,
   "metadata": {
    "collapsed": false
   },
   "outputs": [],
   "source": [
    "# Decodng cabins\n",
    "\n",
    "def decodeCabin(name):\n",
    "    if pd.notnull(name):\n",
    "        cabins = name.split(' ')\n",
    "        averageCabin = 0.0\n",
    "        for cabin in cabins:\n",
    "            if cabin[1:] != '':\n",
    "                averageCabin = averageCabin + float(cabin[1:]) / float(len(cabins))\n",
    "            else:\n",
    "                averageCabin = np.nan\n",
    "        return cabins[0][0], averageCabin\n",
    "    else:\n",
    "        return 'X', np.nan\n",
    "\n",
    "cabinSym_train = []\n",
    "cabinNum_train = []\n",
    "cabinSym_test = []\n",
    "cabinNum_test = []\n",
    "    \n",
    "for i in range(X_train.shape[0]):\n",
    "    cabin = X_train.Cabin[i]\n",
    "    symbol, number = decodeCabin(cabin)\n",
    "    cabinSym_train.append(symbol)\n",
    "    cabinNum_train.append(number)\n",
    "\n",
    "for i in range(X_test.shape[0]):\n",
    "    cabin = X_test.Cabin[i]\n",
    "    symbol, number = decodeCabin(cabin)\n",
    "    cabinSym_test.append(symbol)\n",
    "    cabinNum_test.append(number)"
   ]
  },
  {
   "cell_type": "code",
   "execution_count": 5,
   "metadata": {
    "collapsed": false
   },
   "outputs": [],
   "source": [
    "# Putting decoding data into table\n",
    "\n",
    "X_train = X_train.join(pd.DataFrame({'CabinSymbol': cabinSym_train}))\n",
    "X_train = X_train.join(pd.DataFrame({'CabinNumber': cabinNum_train}))\n",
    "X_train = X_train.join(pd.DataFrame({'Title': title_train}))\n",
    "X_train = X_train.drop(['Name', 'Cabin'], 1)\n",
    "\n",
    "X_test = X_test.join(pd.DataFrame({'CabinSymbol': cabinSym_test}))\n",
    "X_test = X_test.join(pd.DataFrame({'CabinNumber': cabinNum_test}))\n",
    "X_test = X_test.join(pd.DataFrame({'Title': title_test}))\n",
    "X_test = X_test.drop(['Name', 'Cabin'], 1)"
   ]
  },
  {
   "cell_type": "code",
   "execution_count": 6,
   "metadata": {
    "collapsed": false,
    "scrolled": false
   },
   "outputs": [
    {
     "name": "stdout",
     "output_type": "stream",
     "text": [
      "X_cat.shape (891, 6)\n",
      "X_num.shape (891, 3)\n",
      "X_cat.isnull = True\n",
      "X_num.isnull = True\n",
      "X_test_cat.isnull = False\n",
      "X_test_num.isnull = True\n"
     ]
    }
   ],
   "source": [
    "# Transforming data\n",
    "\n",
    "numeric_cols = ['Age', 'Fare', 'CabinNumber']\n",
    "categorial_cols = list(set(X_train.columns.values.tolist()) - set(numeric_cols))\n",
    "X_num = X_train.drop(categorial_cols, 1)\n",
    "X_cat = X_train.drop(numeric_cols, 1)\n",
    "X_test_num = X_test.drop(categorial_cols, 1)\n",
    "X_test_cat = X_test.drop(numeric_cols, 1)\n",
    "\n",
    "print('X_cat.shape', X_cat.shape)\n",
    "print('X_num.shape', X_num.shape)\n",
    "\n",
    "print('X_cat.isnull =', X_cat.isnull().values.any())\n",
    "print('X_num.isnull =', X_num.isnull().values.any())\n",
    "print('X_test_cat.isnull =', X_test_cat.isnull().values.any())\n",
    "print('X_test_num.isnull =', X_test_num.isnull().values.any())"
   ]
  },
  {
   "cell_type": "code",
   "execution_count": 7,
   "metadata": {
    "collapsed": false
   },
   "outputs": [
    {
     "name": "stdout",
     "output_type": "stream",
     "text": [
      "Missing Age Value = 29.69911764705882\n",
      "Missing Fare Value = 32.2042079685746\n",
      "Missing Cabin Number Value = 50.28316326530612\n",
      "X_num.isnull = False\n",
      "X_cat.isnull = False\n",
      "X_test_cat.isnull = False\n",
      "X_test_num.isnull = False\n"
     ]
    }
   ],
   "source": [
    "# Getting rid of missign values in numeric columns\n",
    "\n",
    "missingAge = np.mean(X_num['Age'])\n",
    "missingFare = np.mean(X_num['Fare'])\n",
    "missingCabinNumber = np.mean(X_num['CabinNumber'])\n",
    "\n",
    "X_num['Age'] = X_num['Age'].fillna(missingAge)\n",
    "X_num['Fare'] = X_num['Fare'].fillna(missingFare)\n",
    "X_num['CabinNumber'] = X_num['CabinNumber'].fillna(missingCabinNumber)\n",
    "\n",
    "X_test_num['Age'] = X_test_num['Age'].fillna(missingAge)\n",
    "X_test_num['Fare'] = X_test_num['Fare'].fillna(missingFare)\n",
    "X_test_num['CabinNumber'] = X_test_num['CabinNumber'].fillna(missingCabinNumber)\n",
    "\n",
    "print('Missing Age Value =', missingAge)\n",
    "print('Missing Fare Value =', missingFare)\n",
    "print('Missing Cabin Number Value =', missingCabinNumber)\n",
    "\n",
    "# Getting rid of missing values in categorial data\n",
    "X_cat = X_cat.fillna('NA')\n",
    "\n",
    "print('X_num.isnull =', X_num.isnull().values.any())\n",
    "print('X_cat.isnull =', X_cat.isnull().values.any())\n",
    "print('X_test_cat.isnull =', X_test_cat.isnull().values.any())\n",
    "print('X_test_num.isnull =', X_test_num.isnull().values.any())"
   ]
  },
  {
   "cell_type": "code",
   "execution_count": 8,
   "metadata": {
    "collapsed": false
   },
   "outputs": [
    {
     "data": {
      "text/html": [
       "<div>\n",
       "<table border=\"1\" class=\"dataframe\">\n",
       "  <thead>\n",
       "    <tr style=\"text-align: right;\">\n",
       "      <th></th>\n",
       "      <th>Pclass</th>\n",
       "      <th>Sex</th>\n",
       "      <th>SibSp</th>\n",
       "      <th>Married</th>\n",
       "      <th>EmbarkedC</th>\n",
       "      <th>CabinSymbolReduced</th>\n",
       "    </tr>\n",
       "  </thead>\n",
       "  <tbody>\n",
       "    <tr>\n",
       "      <th>0</th>\n",
       "      <td>3</td>\n",
       "      <td>male</td>\n",
       "      <td>1</td>\n",
       "      <td>False</td>\n",
       "      <td>False</td>\n",
       "      <td>1</td>\n",
       "    </tr>\n",
       "    <tr>\n",
       "      <th>1</th>\n",
       "      <td>1</td>\n",
       "      <td>female</td>\n",
       "      <td>1</td>\n",
       "      <td>True</td>\n",
       "      <td>True</td>\n",
       "      <td>2</td>\n",
       "    </tr>\n",
       "    <tr>\n",
       "      <th>2</th>\n",
       "      <td>3</td>\n",
       "      <td>female</td>\n",
       "      <td>0</td>\n",
       "      <td>False</td>\n",
       "      <td>False</td>\n",
       "      <td>1</td>\n",
       "    </tr>\n",
       "    <tr>\n",
       "      <th>3</th>\n",
       "      <td>1</td>\n",
       "      <td>female</td>\n",
       "      <td>1</td>\n",
       "      <td>True</td>\n",
       "      <td>False</td>\n",
       "      <td>2</td>\n",
       "    </tr>\n",
       "    <tr>\n",
       "      <th>4</th>\n",
       "      <td>3</td>\n",
       "      <td>male</td>\n",
       "      <td>0</td>\n",
       "      <td>False</td>\n",
       "      <td>False</td>\n",
       "      <td>1</td>\n",
       "    </tr>\n",
       "    <tr>\n",
       "      <th>5</th>\n",
       "      <td>3</td>\n",
       "      <td>male</td>\n",
       "      <td>0</td>\n",
       "      <td>False</td>\n",
       "      <td>False</td>\n",
       "      <td>1</td>\n",
       "    </tr>\n",
       "    <tr>\n",
       "      <th>6</th>\n",
       "      <td>1</td>\n",
       "      <td>male</td>\n",
       "      <td>0</td>\n",
       "      <td>False</td>\n",
       "      <td>False</td>\n",
       "      <td>4</td>\n",
       "    </tr>\n",
       "    <tr>\n",
       "      <th>7</th>\n",
       "      <td>3</td>\n",
       "      <td>male</td>\n",
       "      <td>3</td>\n",
       "      <td>False</td>\n",
       "      <td>False</td>\n",
       "      <td>1</td>\n",
       "    </tr>\n",
       "    <tr>\n",
       "      <th>8</th>\n",
       "      <td>3</td>\n",
       "      <td>female</td>\n",
       "      <td>0</td>\n",
       "      <td>True</td>\n",
       "      <td>False</td>\n",
       "      <td>1</td>\n",
       "    </tr>\n",
       "    <tr>\n",
       "      <th>9</th>\n",
       "      <td>2</td>\n",
       "      <td>female</td>\n",
       "      <td>1</td>\n",
       "      <td>True</td>\n",
       "      <td>True</td>\n",
       "      <td>1</td>\n",
       "    </tr>\n",
       "  </tbody>\n",
       "</table>\n",
       "</div>"
      ],
      "text/plain": [
       "   Pclass     Sex  SibSp Married EmbarkedC  CabinSymbolReduced\n",
       "0       3    male      1   False     False                   1\n",
       "1       1  female      1    True      True                   2\n",
       "2       3  female      0   False     False                   1\n",
       "3       1  female      1    True     False                   2\n",
       "4       3    male      0   False     False                   1\n",
       "5       3    male      0   False     False                   1\n",
       "6       1    male      0   False     False                   4\n",
       "7       3    male      3   False     False                   1\n",
       "8       3  female      0    True     False                   1\n",
       "9       2  female      1    True      True                   1"
      ]
     },
     "execution_count": 8,
     "metadata": {},
     "output_type": "execute_result"
    }
   ],
   "source": [
    "# Reshaping categroial data according to features selection (look at L1_FeaturesSelection.ipynb)\n",
    "\n",
    "def cabinSymbolValue(s):\n",
    "    symbols = {'X':1, 'C':2, 'D':3, 'E':4}\n",
    "    return symbols.get(s, 0)\n",
    "    \n",
    "X_test_cat['Married'] = np.array([X_test_cat['Title']=='Mrs.'][0])\n",
    "X_test_cat['EmbarkedC'] = np.array([X_test_cat['Embarked']=='C'][0])        \n",
    "X_test_cat['CabinSymbolReduced'] = [cabinSymbolValue(X_test_cat['CabinSymbol'][i]) for i in range(X_test_cat.shape[0])]\n",
    "X_test_cat = X_test_cat.drop(['CabinSymbol', 'Embarked', 'Title'], 1)\n",
    "\n",
    "X_cat['Married'] = np.array([X_cat['Title']=='Mrs.'][0])\n",
    "X_cat['EmbarkedC'] = np.array([X_cat['Embarked']=='C'][0])        \n",
    "X_cat['CabinSymbolReduced'] = [cabinSymbolValue(X_cat['CabinSymbol'][i]) for i in range(X_cat.shape[0])]\n",
    "X_cat = X_cat.drop(['CabinSymbol', 'Embarked', 'Title'], 1)\n",
    "\n",
    "X_cat.head(10)"
   ]
  },
  {
   "cell_type": "code",
   "execution_count": 9,
   "metadata": {
    "collapsed": false
   },
   "outputs": [
    {
     "data": {
      "text/html": [
       "<div>\n",
       "<table border=\"1\" class=\"dataframe\">\n",
       "  <thead>\n",
       "    <tr style=\"text-align: right;\">\n",
       "      <th></th>\n",
       "      <th>Age</th>\n",
       "      <th>Fare</th>\n",
       "    </tr>\n",
       "  </thead>\n",
       "  <tbody>\n",
       "    <tr>\n",
       "      <th>0</th>\n",
       "      <td>22.0</td>\n",
       "      <td>7.2500</td>\n",
       "    </tr>\n",
       "    <tr>\n",
       "      <th>1</th>\n",
       "      <td>38.0</td>\n",
       "      <td>71.2833</td>\n",
       "    </tr>\n",
       "    <tr>\n",
       "      <th>2</th>\n",
       "      <td>26.0</td>\n",
       "      <td>7.9250</td>\n",
       "    </tr>\n",
       "    <tr>\n",
       "      <th>3</th>\n",
       "      <td>35.0</td>\n",
       "      <td>53.1000</td>\n",
       "    </tr>\n",
       "    <tr>\n",
       "      <th>4</th>\n",
       "      <td>35.0</td>\n",
       "      <td>8.0500</td>\n",
       "    </tr>\n",
       "  </tbody>\n",
       "</table>\n",
       "</div>"
      ],
      "text/plain": [
       "    Age     Fare\n",
       "0  22.0   7.2500\n",
       "1  38.0  71.2833\n",
       "2  26.0   7.9250\n",
       "3  35.0  53.1000\n",
       "4  35.0   8.0500"
      ]
     },
     "execution_count": 9,
     "metadata": {},
     "output_type": "execute_result"
    }
   ],
   "source": [
    "# Reshaping numerical data (according to experiment and common sense)\n",
    "\n",
    "X_num = X_num.drop(['CabinNumber'], 1)\n",
    "X_test_num = X_test_num.drop(['CabinNumber'], 1)\n",
    "\n",
    "X_num.head()"
   ]
  },
  {
   "cell_type": "code",
   "execution_count": 10,
   "metadata": {
    "collapsed": false
   },
   "outputs": [
    {
     "name": "stdout",
     "output_type": "stream",
     "text": [
      "(891, 7) \n",
      "\n",
      "[[ 1.  0.  0. ...,  0.  1.  1.]\n",
      " [ 2.  1.  1. ...,  1.  0.  1.]\n",
      " [ 1.  0.  0. ...,  1.  0.  0.]\n",
      " ..., \n",
      " [ 1.  0.  0. ...,  1.  0.  1.]\n",
      " [ 2.  1.  0. ...,  0.  1.  0.]\n",
      " [ 1.  0.  0. ...,  0.  1.  0.]] \n",
      "\n"
     ]
    }
   ],
   "source": [
    "# Encoding categorial data\n",
    "\n",
    "from sklearn.feature_extraction import DictVectorizer\n",
    "\n",
    "encoder = DictVectorizer(sparse = False)\n",
    "X_cat_oh = encoder.fit_transform(X_cat.T.to_dict().values())\n",
    "X_test_cat_oh = encoder.transform(X_test_cat.T.to_dict().values())\n",
    "\n",
    "print (X_cat_oh.shape, '\\n')\n",
    "print (X_cat_oh, '\\n')"
   ]
  },
  {
   "cell_type": "code",
   "execution_count": 11,
   "metadata": {
    "collapsed": false
   },
   "outputs": [
    {
     "name": "stdout",
     "output_type": "stream",
     "text": [
      "X_shuffled.shape = (891, 9)\n"
     ]
    }
   ],
   "source": [
    "#Shuffling data\n",
    "from sklearn.utils import shuffle\n",
    "X_shuffled, y_shuffled = shuffle(np.hstack([X_num, X_cat_oh]), y_train, random_state = 8921)\n",
    "print('X_shuffled.shape =', X_shuffled.shape)"
   ]
  },
  {
   "cell_type": "code",
   "execution_count": 12,
   "metadata": {
    "collapsed": false
   },
   "outputs": [],
   "source": [
    "# Random Forset Classifier parameters search\n",
    "from sklearn.ensemble import RandomForestClassifier"
   ]
  },
  {
   "cell_type": "code",
   "execution_count": 13,
   "metadata": {
    "collapsed": false
   },
   "outputs": [
    {
     "name": "stdout",
     "output_type": "stream",
     "text": [
      "Random Forest Best Result 0.841750841751\n",
      "Best Parameters {'max_features': 0.4, 'max_depth': 10, 'n_estimators': 50}\n"
     ]
    }
   ],
   "source": [
    "from sklearn.grid_search import GridSearchCV\n",
    "from sklearn.ensemble import RandomForestClassifier\n",
    "\n",
    "optimizer = GridSearchCV(RandomForestClassifier(), \\\n",
    "                         {'max_features' : [0.4, 0.6, 0.8, 1.0], \n",
    "                          'max_depth' : [5, 10, 15, 25, 35, 45, 55, 65], \n",
    "                          'n_estimators' : [1, 5, 10, 15, 30, 50, 70, 90, 100]},\\\n",
    "                         cv = 15, \\\n",
    "                         n_jobs=-1)\n",
    "optimizer.fit(X_shuffled, y_shuffled)\n",
    "print('Random Forest Best Result', optimizer.best_score_)\n",
    "print('Best Parameters', optimizer.best_params_)"
   ]
  },
  {
   "cell_type": "code",
   "execution_count": 14,
   "metadata": {
    "collapsed": false
   },
   "outputs": [],
   "source": [
    "def writeAnswer(filename, optimizer):\n",
    "    prediction = optimizer.predict(np.hstack([X_test_num, X_test_cat_oh]))\n",
    "    submission = pd.DataFrame({\n",
    "            \"PassengerId\": test[\"PassengerId\"],\n",
    "            \"Survived\": prediction\n",
    "        })\n",
    "    submission.to_csv(filename, index=False)\n",
    "    \n",
    "writeAnswer('RandomForestClassifier.csv', optimizer)"
   ]
  },
  {
   "cell_type": "code",
   "execution_count": null,
   "metadata": {
    "collapsed": true
   },
   "outputs": [],
   "source": []
  }
 ],
 "metadata": {
  "anaconda-cloud": {},
  "kernelspec": {
   "display_name": "Python [conda root]",
   "language": "python",
   "name": "conda-root-py"
  },
  "language_info": {
   "codemirror_mode": {
    "name": "ipython",
    "version": 3
   },
   "file_extension": ".py",
   "mimetype": "text/x-python",
   "name": "python",
   "nbconvert_exporter": "python",
   "pygments_lexer": "ipython3",
   "version": "3.5.2"
  }
 },
 "nbformat": 4,
 "nbformat_minor": 0
}
