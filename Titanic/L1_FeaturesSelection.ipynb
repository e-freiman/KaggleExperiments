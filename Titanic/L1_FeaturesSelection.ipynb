{
 "cells": [
  {
   "cell_type": "code",
   "execution_count": 1,
   "metadata": {
    "collapsed": true
   },
   "outputs": [],
   "source": [
    "# Loading data\n",
    "\n",
    "import numpy as np\n",
    "import pandas as pd\n",
    "\n",
    "train = pd.read_csv('input/train.csv')\n",
    "test = pd.read_csv('input/test.csv')"
   ]
  },
  {
   "cell_type": "code",
   "execution_count": 2,
   "metadata": {
    "collapsed": false
   },
   "outputs": [
    {
     "name": "stdout",
     "output_type": "stream",
     "text": [
      "Pclass        int64\n",
      "Name         object\n",
      "Sex          object\n",
      "Age         float64\n",
      "SibSp         int64\n",
      "Parch         int64\n",
      "Fare        float64\n",
      "Cabin        object\n",
      "Embarked     object\n",
      "dtype: object \n",
      "\n",
      "Survived 0.3838383838383838 \n",
      "\n",
      "X_train.shape =  (891, 9)\n"
     ]
    }
   ],
   "source": [
    "# Exploring data\n",
    "\n",
    "y_train = train.Survived\n",
    "\n",
    "X_train = train.drop(['Survived','PassengerId','Ticket'], 1)\n",
    "X_test = test.drop(['PassengerId','Ticket'], 1)\n",
    "\n",
    "#Types of data\n",
    "print(X_train.dtypes,'\\n')\n",
    "\n",
    "#Procentage of survived people in train dataset\n",
    "print('Survived', float(sum(y_train))/float(len(y_train)), '\\n')\n",
    "\n",
    "print('X_train.shape = ', X_train.shape)"
   ]
  },
  {
   "cell_type": "code",
   "execution_count": 3,
   "metadata": {
    "collapsed": true
   },
   "outputs": [],
   "source": [
    "# Decoding names\n",
    "\n",
    "def decodeTitle(name, sex):    \n",
    "    if name.find('Mr.') != -1:\n",
    "        return 'Mr.'\n",
    "    if name.find('Mrs.') != -1:\n",
    "        return 'Mrs.'\n",
    "    if name.find('Miss.') != -1:\n",
    "        return 'Miss.'\n",
    "    if sex == 'male':\n",
    "        return 'Mr.'\n",
    "    if sex == 'female':\n",
    "        return 'Miss.'    \n",
    "    #in test data 125 Mrs., 182 Miss, 517 Mr.    \n",
    "\n",
    "title_train = []\n",
    "title_test = []\n",
    "\n",
    "for i in range(X_train.shape[0]):    \n",
    "    title_train.append(decodeTitle(X_train.Name[i], X_train.Sex[i]))\n",
    "for i in range(X_test.shape[0]):    \n",
    "    title_test.append(decodeTitle(X_test.Name[i], X_test.Sex[i]))"
   ]
  },
  {
   "cell_type": "code",
   "execution_count": 4,
   "metadata": {
    "collapsed": true
   },
   "outputs": [],
   "source": [
    "# Decodng cabins\n",
    "\n",
    "def decodeCabin(name):\n",
    "    if pd.notnull(name):\n",
    "        cabins = name.split(' ')\n",
    "        averageCabin = 0.0\n",
    "        for cabin in cabins:\n",
    "            if cabin[1:] != '':\n",
    "                averageCabin = averageCabin + float(cabin[1:]) / float(len(cabins))\n",
    "            else:\n",
    "                averageCabin = np.nan\n",
    "        return cabins[0][0], averageCabin\n",
    "    else:\n",
    "        return 'X', np.nan\n",
    "\n",
    "cabinSym_train = []\n",
    "cabinNum_train = []\n",
    "cabinSym_test = []\n",
    "cabinNum_test = []\n",
    "    \n",
    "for i in range(X_train.shape[0]):\n",
    "    cabin = X_train.Cabin[i]\n",
    "    symbol, number = decodeCabin(cabin)\n",
    "    cabinSym_train.append(symbol)\n",
    "    cabinNum_train.append(number)\n",
    "\n",
    "for i in range(X_test.shape[0]):\n",
    "    cabin = X_test.Cabin[i]\n",
    "    symbol, number = decodeCabin(cabin)\n",
    "    cabinSym_test.append(symbol)\n",
    "    cabinNum_test.append(number)"
   ]
  },
  {
   "cell_type": "code",
   "execution_count": 5,
   "metadata": {
    "collapsed": true
   },
   "outputs": [],
   "source": [
    "# Putting decoding data into table\n",
    "\n",
    "X_train = X_train.join(pd.DataFrame({'CabinSymbol': cabinSym_train}))\n",
    "X_train = X_train.join(pd.DataFrame({'CabinNumber': cabinNum_train}))\n",
    "X_train = X_train.join(pd.DataFrame({'Title': title_train}))\n",
    "X_train = X_train.drop(['Name', 'Cabin'], 1)\n",
    "\n",
    "X_test = X_test.join(pd.DataFrame({'CabinSymbol': cabinSym_test}))\n",
    "X_test = X_test.join(pd.DataFrame({'CabinNumber': cabinNum_test}))\n",
    "X_test = X_test.join(pd.DataFrame({'Title': title_test}))\n",
    "X_test = X_test.drop(['Name', 'Cabin'], 1)"
   ]
  },
  {
   "cell_type": "code",
   "execution_count": 6,
   "metadata": {
    "collapsed": false
   },
   "outputs": [
    {
     "name": "stdout",
     "output_type": "stream",
     "text": [
      "X_cat.shape (891, 7)\n",
      "X_num.shape (891, 3)\n",
      "X_cat.isnull = True\n",
      "X_num.isnull = True\n",
      "X_test_cat.isnull = False\n",
      "X_test_num.isnull = True\n"
     ]
    }
   ],
   "source": [
    "# Transforming data\n",
    "\n",
    "numeric_cols = ['Age', 'Fare', 'CabinNumber']\n",
    "categorial_cols = list(set(X_train.columns.values.tolist()) - set(numeric_cols))\n",
    "X_num = X_train.drop(categorial_cols, 1)\n",
    "X_cat = X_train.drop(numeric_cols, 1)\n",
    "X_test_num = X_test.drop(categorial_cols, 1)\n",
    "X_test_cat = X_test.drop(numeric_cols, 1)\n",
    "\n",
    "print('X_cat.shape', X_cat.shape)\n",
    "print('X_num.shape', X_num.shape)\n",
    "\n",
    "print('X_cat.isnull =', X_cat.isnull().values.any())\n",
    "print('X_num.isnull =', X_num.isnull().values.any())\n",
    "print('X_test_cat.isnull =', X_test_cat.isnull().values.any())\n",
    "print('X_test_num.isnull =', X_test_num.isnull().values.any())"
   ]
  },
  {
   "cell_type": "code",
   "execution_count": 7,
   "metadata": {
    "collapsed": false
   },
   "outputs": [
    {
     "name": "stdout",
     "output_type": "stream",
     "text": [
      "Missing Age Value = 0\n",
      "Missing Fare Value = 0\n",
      "Missing Cabin Number Value = 0\n",
      "X_num.isnull = False\n",
      "X_cat.isnull = False\n",
      "X_test_cat.isnull = False\n",
      "X_test_num.isnull = False\n"
     ]
    }
   ],
   "source": [
    "# Getting rid of missign values in numeric columns\n",
    "\n",
    "missingAge = 0#np.mean(X_num['Age'])\n",
    "missingFare = 0#np.mean(X_num['Fare'])\n",
    "missingCabinNumber = 0#np.mean(X_num['CabinNumber'])\n",
    "\n",
    "X_num['Age'] = X_num['Age'].fillna(missingAge)\n",
    "X_num['Fare'] = X_num['Fare'].fillna(missingFare)\n",
    "X_num['CabinNumber'] = X_num['CabinNumber'].fillna(missingCabinNumber)\n",
    "\n",
    "X_test_num['Age'] = X_test_num['Age'].fillna(missingAge)\n",
    "X_test_num['Fare'] = X_test_num['Fare'].fillna(missingFare)\n",
    "X_test_num['CabinNumber'] = X_test_num['CabinNumber'].fillna(missingCabinNumber)\n",
    "\n",
    "print('Missing Age Value =', missingAge)\n",
    "print('Missing Fare Value =', missingFare)\n",
    "print('Missing Cabin Number Value =', missingCabinNumber)\n",
    "\n",
    "# Getting rid of missing values in categorial data\n",
    "X_cat = X_cat.fillna('NA')\n",
    "\n",
    "print('X_num.isnull =', X_num.isnull().values.any())\n",
    "print('X_cat.isnull =', X_cat.isnull().values.any())\n",
    "print('X_test_cat.isnull =', X_test_cat.isnull().values.any())\n",
    "print('X_test_num.isnull =', X_test_num.isnull().values.any())"
   ]
  },
  {
   "cell_type": "code",
   "execution_count": 8,
   "metadata": {
    "collapsed": false
   },
   "outputs": [
    {
     "name": "stdout",
     "output_type": "stream",
     "text": [
      "(891, 3) \n",
      "\n",
      "[[-0.10231279 -0.50244517 -0.41461294]\n",
      " [ 0.80749164  0.78684529  2.77149748]\n",
      " [ 0.12513832 -0.48885426 -0.41461294]\n",
      " ..., \n",
      " [-1.35329389 -0.17626324 -0.41461294]\n",
      " [ 0.12513832 -0.04438104  5.13296756]\n",
      " [ 0.46631498 -0.49237783 -0.41461294]] \n",
      "\n"
     ]
    }
   ],
   "source": [
    "# Scalling numeriacal data\n",
    "\n",
    "from sklearn.preprocessing import StandardScaler\n",
    "scaler = StandardScaler()\n",
    "X_num_sc = scaler.fit_transform(X_num)\n",
    "X_test_num_sc = scaler.transform(X_test_num)\n",
    "print(X_num_sc.shape, '\\n')\n",
    "print(X_num_sc, '\\n')"
   ]
  },
  {
   "cell_type": "code",
   "execution_count": 9,
   "metadata": {
    "collapsed": false
   },
   "outputs": [
    {
     "name": "stdout",
     "output_type": "stream",
     "text": [
      "Number of Mrs. 125\n",
      "Number of Miss. 189\n",
      "Number of Mr. 577\n",
      "Number of unknown cabin 687\n",
      "Passangers in train dataset is 891\n"
     ]
    }
   ],
   "source": [
    "print ('Number of Mrs.', sum([X_train.Title == 'Mrs.'][0]))\n",
    "print ('Number of Miss.', sum([X_train.Title == 'Miss.'][0]))\n",
    "print ('Number of Mr.', sum([X_train.Title == 'Mr.'][0]))\n",
    "print ('Number of unknown cabin', sum([X_train.CabinSymbol == 'X'][0]))\n",
    "print ('Passangers in train dataset is',X_train.shape[0])"
   ]
  },
  {
   "cell_type": "code",
   "execution_count": 10,
   "metadata": {
    "collapsed": false
   },
   "outputs": [
    {
     "name": "stdout",
     "output_type": "stream",
     "text": [
      "(891, 21) \n",
      "\n",
      "[[ 0.  0.  0. ...,  0.  1.  0.]\n",
      " [ 0.  0.  1. ...,  0.  0.  1.]\n",
      " [ 0.  0.  0. ...,  1.  0.  0.]\n",
      " ..., \n",
      " [ 0.  0.  0. ...,  1.  0.  0.]\n",
      " [ 0.  0.  1. ...,  0.  1.  0.]\n",
      " [ 0.  0.  0. ...,  0.  1.  0.]] \n",
      "\n"
     ]
    }
   ],
   "source": [
    "# Encoding categorial data\n",
    "\n",
    "from sklearn.feature_extraction import DictVectorizer\n",
    "\n",
    "encoder = DictVectorizer(sparse = False)\n",
    "X_cat_oh = encoder.fit_transform(X_cat.T.to_dict().values())\n",
    "X_test_cat_oh = encoder.transform(X_test_cat.T.to_dict().values())\n",
    "\n",
    "print (X_cat_oh.shape, '\\n')\n",
    "print (X_cat_oh, '\\n')"
   ]
  },
  {
   "cell_type": "code",
   "execution_count": 17,
   "metadata": {
    "collapsed": false
   },
   "outputs": [
    {
     "name": "stdout",
     "output_type": "stream",
     "text": [
      "X_shuffled.shape = (891, 24)\n",
      "Logistic Classifier Best Result 0.79012345679\n",
      "Best Params {'C': 0.5}\n",
      "Best Weights [[-0.30075128  0.13655121  0.02764731  0.          0.         -0.21001124\n",
      "   0.20889299  0.62232771  0.10281364  0.          0.         -0.4445567\n",
      "   0.3336803   0.          0.          0.         -0.06721765 -0.67143394\n",
      "   2.50103768  0.         -0.25058911  0.          0.          0.40299366]]\n",
      "['Age', 'Fare', 'CabinNumber'] ['CabinSymbol=A', 'CabinSymbol=B', 'CabinSymbol=C', 'CabinSymbol=D', 'CabinSymbol=E', 'CabinSymbol=F', 'CabinSymbol=G', 'CabinSymbol=T', 'CabinSymbol=X', 'Embarked=C', 'Embarked=NA', 'Embarked=Q', 'Embarked=S', 'Parch', 'Pclass', 'Sex=female', 'Sex=male', 'SibSp', 'Title=Miss.', 'Title=Mr.', 'Title=Mrs.']\n"
     ]
    }
   ],
   "source": [
    "#Features selection through logistic classifier with l1 penalty\n",
    "\n",
    "from sklearn.grid_search import GridSearchCV\n",
    "from sklearn.linear_model import LogisticRegression\n",
    "from sklearn.utils import shuffle\n",
    "\n",
    "X_shuffled, y_shuffled = shuffle(np.hstack([X_num_sc, X_cat_oh]), y_train, random_state = 118)\n",
    "print('X_shuffled.shape =', X_shuffled.shape)\n",
    "\n",
    "optimizer = GridSearchCV(LogisticRegression(penalty='l1'),\\\n",
    "                         {'C' : [0.0001, 0.001, 0.01, 0.1, 0.25, 0.5, 0.75, 1.0, 1.5, 2.0, 3.0, 4.0, 5.0]}, \\\n",
    "                         cv = 30)\n",
    "optimizer.fit(X_shuffled, y_shuffled)\n",
    "print('Logistic Classifier Best Result', optimizer.best_score_)\n",
    "print('Best Params', optimizer.best_params_)\n",
    "print('Best Weights', optimizer.best_estimator_.coef_)\n",
    "print(numeric_cols, encoder.feature_names_)"
   ]
  },
  {
   "cell_type": "code",
   "execution_count": 19,
   "metadata": {
    "collapsed": false
   },
   "outputs": [
    {
     "name": "stdout",
     "output_type": "stream",
     "text": [
      "CabinSymbol=A 0.0\n",
      "CabinSymbol=B 0.0\n",
      "CabinSymbol=C -0.210011235546\n",
      "CabinSymbol=D 0.208892985769\n",
      "CabinSymbol=E 0.622327710605\n",
      "CabinSymbol=F 0.102813642342\n",
      "CabinSymbol=G 0.0\n",
      "CabinSymbol=T 0.0\n",
      "CabinSymbol=X -0.444556695321\n",
      "Embarked=C 0.333680300048\n",
      "Embarked=NA 0.0\n",
      "Embarked=Q 0.0\n",
      "Embarked=S 0.0\n",
      "Parch -0.0672176538028\n",
      "Pclass -0.671433937093\n",
      "Sex=female 2.50103767978\n",
      "Sex=male 0.0\n",
      "SibSp -0.250589112457\n",
      "Title=Miss. 0.0\n",
      "Title=Mr. 0.0\n",
      "Title=Mrs. 0.402993661805\n"
     ]
    }
   ],
   "source": [
    "for i in range(X_cat_oh.shape[1]):\n",
    "    print(encoder.feature_names_[i], optimizer.best_estimator_.coef_[0][i + X_num_sc.shape[1]])"
   ]
  },
  {
   "cell_type": "code",
   "execution_count": 20,
   "metadata": {
    "collapsed": true
   },
   "outputs": [],
   "source": [
    "def writeAnswer(filename, optimizer):\n",
    "    prediction = optimizer.predict(np.hstack([X_test_num, X_test_cat_oh]))\n",
    "    submission = pd.DataFrame({\n",
    "            \"PassengerId\": test[\"PassengerId\"],\n",
    "            \"Survived\": prediction\n",
    "        })\n",
    "    submission.to_csv(filename, index=False)\n",
    "    \n",
    "writeAnswer('LogisticRegressionClassifier.csv', optimizer)"
   ]
  },
  {
   "cell_type": "code",
   "execution_count": null,
   "metadata": {
    "collapsed": true
   },
   "outputs": [],
   "source": []
  }
 ],
 "metadata": {
  "kernelspec": {
   "display_name": "Python [conda root]",
   "language": "python",
   "name": "conda-root-py"
  },
  "language_info": {
   "codemirror_mode": {
    "name": "ipython",
    "version": 3
   },
   "file_extension": ".py",
   "mimetype": "text/x-python",
   "name": "python",
   "nbconvert_exporter": "python",
   "pygments_lexer": "ipython3",
   "version": "3.5.2"
  }
 },
 "nbformat": 4,
 "nbformat_minor": 1
}
